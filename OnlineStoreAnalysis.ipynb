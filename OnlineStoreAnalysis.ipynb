{
 "cells": [
  {
   "cell_type": "code",
   "execution_count": 1,
   "metadata": {},
   "outputs": [],
   "source": [
    "import pandas as pd\n",
    "import numpy as np\n",
    "\n",
    "import matplotlib.pyplot as plt\n",
    "%matplotlib inline\n",
    "import seaborn as sns\n",
    "\n",
    "import kaggle\n",
    "\n",
    "from operator import attrgetter\n",
    "from datetime import timedelta\n",
    "\n",
    "from datetime import datetime"
   ]
  },
  {
   "cell_type": "markdown",
   "metadata": {},
   "source": [
    "- Импортируем данные с помощью API kaggle."
   ]
  },
  {
   "cell_type": "code",
   "execution_count": 2,
   "metadata": {},
   "outputs": [
    {
     "name": "stdout",
     "output_type": "stream",
     "text": [
      "Dataset URL: https://www.kaggle.com/datasets/danilageraskin/project-2\n"
     ]
    }
   ],
   "source": [
    "kaggle.api.authenticate()\n",
    "kaggle.api.dataset_download_files('danilageraskin/project-2', path='.', unzip=True)"
   ]
  },
  {
   "cell_type": "code",
   "execution_count": 3,
   "metadata": {},
   "outputs": [],
   "source": [
    "#таблица с уникальными идентификаторами пользователей\n",
    "customers_df = pd.read_csv('olist_customers_dataset.csv')"
   ]
  },
  {
   "cell_type": "code",
   "execution_count": 4,
   "metadata": {},
   "outputs": [],
   "source": [
    "#таблица заказов\n",
    "orders_df = pd.read_csv('olist_orders_dataset.csv')"
   ]
  },
  {
   "cell_type": "code",
   "execution_count": 5,
   "metadata": {},
   "outputs": [],
   "source": [
    "#уникальный идентификатор заказа (номер чека)\n",
    "order_items_df = pd.read_csv('olist_order_items_dataset.csv')"
   ]
  },
  {
   "cell_type": "markdown",
   "metadata": {},
   "source": [
    "### 1. Считаем сколько пользователей сделало только один заказ."
   ]
  },
  {
   "cell_type": "markdown",
   "metadata": {},
   "source": [
    "- Первое, что нужно сделать это объединить два датафрейма olist_customers_datase и olist_orders_dataset по customer_id. Это нужно сделать для того, чтобы считать кол-во заказов по customer_unique_id."
   ]
  },
  {
   "cell_type": "code",
   "execution_count": 6,
   "metadata": {},
   "outputs": [],
   "source": [
    "customer_unique_id_order_status = customers_df.merge(orders_df, on='customer_id')"
   ]
  },
  {
   "cell_type": "markdown",
   "metadata": {},
   "source": [
    "- Общая информация."
   ]
  },
  {
   "cell_type": "code",
   "execution_count": 7,
   "metadata": {},
   "outputs": [
    {
     "name": "stdout",
     "output_type": "stream",
     "text": [
      "1)Кол-во строк: 99441, кол-во столбцов: 12;\n",
      "2)Кол-во пропущенных значений: 4908;\n",
      "3)Дубликатов строк: 0;\n"
     ]
    }
   ],
   "source": [
    "print(f'1)Кол-во строк: {customer_unique_id_order_status.shape[0]}, кол-во столбцов: {customer_unique_id_order_status.shape[1]};')\n",
    "\n",
    "print(f'2)Кол-во пропущенных значений: {customer_unique_id_order_status.isnull().sum().sum()};')\n",
    "\n",
    "print(f'3)Дубликатов строк: {customer_unique_id_order_status.duplicated().sum()};')"
   ]
  },
  {
   "cell_type": "markdown",
   "metadata": {},
   "source": [
    "- Далее выбирем людей, которые совершили покупку только один раз. Так же нужно определить по какому статутсу\n",
    "можно считать, что заказ куплен. Будем считать, что если заказ доставлен пользователю, т.к. в любом из предыдущих\n",
    "этапов пользователь сможет отменить заказ и он окажется в статусе отменен."
   ]
  },
  {
   "cell_type": "code",
   "execution_count": 8,
   "metadata": {},
   "outputs": [],
   "source": [
    "orders_delivered = customer_unique_id_order_status.query('order_status == \"delivered\"') \\\n",
    "    .groupby('customer_unique_id', as_index=False) \\\n",
    "    .agg({'order_id':'count'}) \\\n",
    "    .sort_values(by=['order_id']) \\\n",
    "    .rename(columns={\"order_id\": \"count_orders\"})"
   ]
  },
  {
   "cell_type": "code",
   "execution_count": 9,
   "metadata": {},
   "outputs": [
    {
     "name": "stdout",
     "output_type": "stream",
     "text": [
      "90557 ПОЛЬЗОВАТЕЛЕЙ СДЕЛАЛО ТОЛЬКО ОДИН ЗАКАЗ!\n"
     ]
    }
   ],
   "source": [
    "print(orders_delivered.query('count_orders == 1').count_orders.sum() , 'ПОЛЬЗОВАТЕЛЕЙ СДЕЛАЛО ТОЛЬКО ОДИН ЗАКАЗ!')"
   ]
  },
  {
   "cell_type": "code",
   "execution_count": null,
   "metadata": {},
   "outputs": [],
   "source": []
  },
  {
   "cell_type": "markdown",
   "metadata": {},
   "source": [
    "### 2. Подсчитаем сколько заказов в месяц в среднем не доставляется по разным причинам и выведем детализацию по причинам."
   ]
  },
  {
   "cell_type": "code",
   "execution_count": 10,
   "metadata": {},
   "outputs": [
    {
     "data": {
      "text/html": [
       "<div>\n",
       "<style scoped>\n",
       "    .dataframe tbody tr th:only-of-type {\n",
       "        vertical-align: middle;\n",
       "    }\n",
       "\n",
       "    .dataframe tbody tr th {\n",
       "        vertical-align: top;\n",
       "    }\n",
       "\n",
       "    .dataframe thead th {\n",
       "        text-align: right;\n",
       "    }\n",
       "</style>\n",
       "<table border=\"1\" class=\"dataframe\">\n",
       "  <thead>\n",
       "    <tr style=\"text-align: right;\">\n",
       "      <th></th>\n",
       "      <th>customer_id</th>\n",
       "      <th>customer_unique_id</th>\n",
       "      <th>customer_zip_code_prefix</th>\n",
       "      <th>customer_city</th>\n",
       "      <th>customer_state</th>\n",
       "      <th>order_id</th>\n",
       "      <th>order_status</th>\n",
       "      <th>order_purchase_timestamp</th>\n",
       "      <th>order_approved_at</th>\n",
       "      <th>order_delivered_carrier_date</th>\n",
       "      <th>order_delivered_customer_date</th>\n",
       "      <th>order_estimated_delivery_date</th>\n",
       "    </tr>\n",
       "  </thead>\n",
       "  <tbody>\n",
       "    <tr>\n",
       "      <th>46</th>\n",
       "      <td>f34a6e874087ec1f0e3dab9fdf659c5d</td>\n",
       "      <td>233896de79986082f1f479f1f85281cb</td>\n",
       "      <td>38300</td>\n",
       "      <td>ituiutaba</td>\n",
       "      <td>MG</td>\n",
       "      <td>6e98de3a85c84ead6689189b825d35b5</td>\n",
       "      <td>canceled</td>\n",
       "      <td>2018-03-15 10:07:02</td>\n",
       "      <td>2018-03-15 10:29:33</td>\n",
       "      <td>NaN</td>\n",
       "      <td>NaN</td>\n",
       "      <td>2018-04-09 00:00:00</td>\n",
       "    </tr>\n",
       "    <tr>\n",
       "      <th>378</th>\n",
       "      <td>3ba47b09546c2da91ef141efce2d5888</td>\n",
       "      <td>b8c37ee810b38c416022e1c9f51e740c</td>\n",
       "      <td>32140</td>\n",
       "      <td>contagem</td>\n",
       "      <td>MG</td>\n",
       "      <td>a402af38a74c44926247db438245d95c</td>\n",
       "      <td>canceled</td>\n",
       "      <td>2018-01-30 22:12:10</td>\n",
       "      <td>2018-01-30 22:34:14</td>\n",
       "      <td>NaN</td>\n",
       "      <td>NaN</td>\n",
       "      <td>2018-03-06 00:00:00</td>\n",
       "    </tr>\n",
       "    <tr>\n",
       "      <th>380</th>\n",
       "      <td>cfffbb322333151f8df6398a8c3340db</td>\n",
       "      <td>0dc0731aafd5659410244092b0dc7d65</td>\n",
       "      <td>5093</td>\n",
       "      <td>sao paulo</td>\n",
       "      <td>SP</td>\n",
       "      <td>f63cd97f8f1db2eb266fb3bc2b4a95f3</td>\n",
       "      <td>canceled</td>\n",
       "      <td>2017-06-19 14:07:04</td>\n",
       "      <td>2017-06-19 14:23:18</td>\n",
       "      <td>NaN</td>\n",
       "      <td>NaN</td>\n",
       "      <td>2017-06-30 00:00:00</td>\n",
       "    </tr>\n",
       "    <tr>\n",
       "      <th>409</th>\n",
       "      <td>ffaded93e5a1fce06363cfb6905676a1</td>\n",
       "      <td>587b326ba3bf8aa4d3e50fb1f38ea79f</td>\n",
       "      <td>6722</td>\n",
       "      <td>cotia</td>\n",
       "      <td>SP</td>\n",
       "      <td>5bca61e411c4fcce08327a8efc371911</td>\n",
       "      <td>canceled</td>\n",
       "      <td>2018-06-13 20:52:10</td>\n",
       "      <td>2018-06-13 21:20:38</td>\n",
       "      <td>NaN</td>\n",
       "      <td>NaN</td>\n",
       "      <td>2018-07-11 00:00:00</td>\n",
       "    </tr>\n",
       "    <tr>\n",
       "      <th>878</th>\n",
       "      <td>c8223f76047e09bea798462f2f46ffa9</td>\n",
       "      <td>b4ee22e08cdaeab0b8e6bf2e67d7c19b</td>\n",
       "      <td>45690</td>\n",
       "      <td>una</td>\n",
       "      <td>BA</td>\n",
       "      <td>5b4858f2dcf69731f2285a38829bfa7c</td>\n",
       "      <td>canceled</td>\n",
       "      <td>2018-02-15 20:53:17</td>\n",
       "      <td>2018-02-15 21:06:43</td>\n",
       "      <td>2018-02-16 16:52:52</td>\n",
       "      <td>NaN</td>\n",
       "      <td>2018-03-16 00:00:00</td>\n",
       "    </tr>\n",
       "  </tbody>\n",
       "</table>\n",
       "</div>"
      ],
      "text/plain": [
       "                          customer_id                customer_unique_id  \\\n",
       "46   f34a6e874087ec1f0e3dab9fdf659c5d  233896de79986082f1f479f1f85281cb   \n",
       "378  3ba47b09546c2da91ef141efce2d5888  b8c37ee810b38c416022e1c9f51e740c   \n",
       "380  cfffbb322333151f8df6398a8c3340db  0dc0731aafd5659410244092b0dc7d65   \n",
       "409  ffaded93e5a1fce06363cfb6905676a1  587b326ba3bf8aa4d3e50fb1f38ea79f   \n",
       "878  c8223f76047e09bea798462f2f46ffa9  b4ee22e08cdaeab0b8e6bf2e67d7c19b   \n",
       "\n",
       "     customer_zip_code_prefix customer_city customer_state  \\\n",
       "46                      38300     ituiutaba             MG   \n",
       "378                     32140      contagem             MG   \n",
       "380                      5093     sao paulo             SP   \n",
       "409                      6722         cotia             SP   \n",
       "878                     45690           una             BA   \n",
       "\n",
       "                             order_id order_status order_purchase_timestamp  \\\n",
       "46   6e98de3a85c84ead6689189b825d35b5     canceled      2018-03-15 10:07:02   \n",
       "378  a402af38a74c44926247db438245d95c     canceled      2018-01-30 22:12:10   \n",
       "380  f63cd97f8f1db2eb266fb3bc2b4a95f3     canceled      2017-06-19 14:07:04   \n",
       "409  5bca61e411c4fcce08327a8efc371911     canceled      2018-06-13 20:52:10   \n",
       "878  5b4858f2dcf69731f2285a38829bfa7c     canceled      2018-02-15 20:53:17   \n",
       "\n",
       "       order_approved_at order_delivered_carrier_date  \\\n",
       "46   2018-03-15 10:29:33                          NaN   \n",
       "378  2018-01-30 22:34:14                          NaN   \n",
       "380  2017-06-19 14:23:18                          NaN   \n",
       "409  2018-06-13 21:20:38                          NaN   \n",
       "878  2018-02-15 21:06:43          2018-02-16 16:52:52   \n",
       "\n",
       "    order_delivered_customer_date order_estimated_delivery_date  \n",
       "46                            NaN           2018-04-09 00:00:00  \n",
       "378                           NaN           2018-03-06 00:00:00  \n",
       "380                           NaN           2017-06-30 00:00:00  \n",
       "409                           NaN           2018-07-11 00:00:00  \n",
       "878                           NaN           2018-03-16 00:00:00  "
      ]
     },
     "execution_count": 10,
     "metadata": {},
     "output_type": "execute_result"
    }
   ],
   "source": [
    "customer_unique_id_order_status.query('order_status == \"canceled\"').head()"
   ]
  },
  {
   "cell_type": "markdown",
   "metadata": {},
   "source": [
    "- У нас нет точныз причин, почему пользователей отменил заказ, поэтому нужно самому понять почему некоторые заказы были отменены. Для себя я смог выделить три фактора:  \n",
    "    1. Не устраивает дата обещанной доставки; \n",
    "    2. Не устраивает цена;\n",
    "    3. Недоступен(unavailable)."
   ]
  },
  {
   "cell_type": "markdown",
   "metadata": {},
   "source": [
    "Тут стоит смотреть не на итоговую цена, а на order_approved_at(время подтверждения оплаты заказа). *Пустая ли колонка или нет.\n",
    "На самом деле тут нужно понять, когда клиент видет обещанную дату доставки. После оплаты или до, но т.к. у\n",
    "меня нет такой информации — буду полагаться на свой опыт и считать, что клиент видет дату доставки после оплаты,\n",
    "как это бывает на различных современных маркетплейсах(дата постоянна сдвигается). И получается если в колонке order_approved_at нет данных,\n",
    "то буду считать, что клиенту не подходит цена. А если есть дата, то буду считать, что клиента не устраивает \n",
    "дата обещанной доставки."
   ]
  },
  {
   "cell_type": "markdown",
   "metadata": {},
   "source": [
    "- Для удобства создаю новый датафрейм и удалаю лишние столбцы."
   ]
  },
  {
   "cell_type": "code",
   "execution_count": 11,
   "metadata": {},
   "outputs": [],
   "source": [
    "count_orders_canceled_df = customer_unique_id_order_status"
   ]
  },
  {
   "cell_type": "code",
   "execution_count": 12,
   "metadata": {},
   "outputs": [],
   "source": [
    "count_orders_canceled_df = count_orders_canceled_df.drop(['customer_id', 'customer_zip_code_prefix'], axis=1)"
   ]
  },
  {
   "cell_type": "code",
   "execution_count": 13,
   "metadata": {},
   "outputs": [],
   "source": [
    "count_orders_canceled_df = count_orders_canceled_df.drop(['customer_city', 'customer_state', 'order_id'], axis=1)"
   ]
  },
  {
   "cell_type": "markdown",
   "metadata": {},
   "source": [
    "- Преобразуем дату в удобный формат."
   ]
  },
  {
   "cell_type": "code",
   "execution_count": 14,
   "metadata": {},
   "outputs": [],
   "source": [
    "count_orders_canceled_df['order_purchase_timestamp'] = pd.to_datetime(count_orders_canceled_df['order_purchase_timestamp'])\n",
    "\n",
    "count_orders_canceled_df['order_approved_at'] = pd.to_datetime(count_orders_canceled_df['order_approved_at'])\n",
    "\n",
    "count_orders_canceled_df['order_delivered_carrier_date'] = pd.to_datetime(count_orders_canceled_df['order_delivered_carrier_date'])\n",
    "\n",
    "count_orders_canceled_df['order_delivered_customer_date'] = pd.to_datetime(count_orders_canceled_df['order_delivered_customer_date'])\n",
    "\n",
    "count_orders_canceled_df['order_estimated_delivery_date'] = pd.to_datetime(count_orders_canceled_df['order_estimated_delivery_date'])"
   ]
  },
  {
   "cell_type": "markdown",
   "metadata": {},
   "source": [
    "- Выносим месяц и год отдельно, чтобы удобнее было визуализировать данные."
   ]
  },
  {
   "cell_type": "code",
   "execution_count": 15,
   "metadata": {},
   "outputs": [],
   "source": [
    "count_orders_canceled_df['month_start'] = pd.to_datetime(count_orders_canceled_df['order_purchase_timestamp'], dayfirst=True).dt.month"
   ]
  },
  {
   "cell_type": "code",
   "execution_count": 16,
   "metadata": {},
   "outputs": [],
   "source": [
    "count_orders_canceled_df['years_start'] = pd.to_datetime(count_orders_canceled_df['order_purchase_timestamp'], dayfirst=True).dt.year"
   ]
  },
  {
   "cell_type": "markdown",
   "metadata": {},
   "source": [
    "- Считаю разницу между моментом создания заказа и датой обещанной доставки."
   ]
  },
  {
   "cell_type": "code",
   "execution_count": 17,
   "metadata": {},
   "outputs": [],
   "source": [
    "count_orders_canceled_df['diff_start_end'] = \\\n",
    "   count_orders_canceled_df['order_estimated_delivery_date'] - count_orders_canceled_df['order_purchase_timestamp']"
   ]
  },
  {
   "cell_type": "code",
   "execution_count": 18,
   "metadata": {},
   "outputs": [],
   "source": [
    "count_orders_canceled_df['diff_start_end'] = count_orders_canceled_df.diff_start_end.dt.days"
   ]
  },
  {
   "cell_type": "markdown",
   "metadata": {},
   "source": [
    "- Проверим, что отрицательных элементов в diff_start_end нет."
   ]
  },
  {
   "cell_type": "code",
   "execution_count": 19,
   "metadata": {},
   "outputs": [
    {
     "data": {
      "text/plain": [
       "0"
      ]
     },
     "execution_count": 19,
     "metadata": {},
     "output_type": "execute_result"
    }
   ],
   "source": [
    "count_orders_canceled_df.query('diff_start_end < 0').count().sum()"
   ]
  },
  {
   "cell_type": "markdown",
   "metadata": {},
   "source": [
    "- Заменяю пропущенные значения в столбце подтверждения оплаты заказа(order_approved_at)."
   ]
  },
  {
   "cell_type": "code",
   "execution_count": 20,
   "metadata": {},
   "outputs": [],
   "source": [
    "count_orders_canceled_df.order_approved_at = count_orders_canceled_df.order_approved_at.fillna('Не устраивает цена')"
   ]
  },
  {
   "cell_type": "markdown",
   "metadata": {},
   "source": [
    "- Датафрейм, где не устраивает цена."
   ]
  },
  {
   "cell_type": "code",
   "execution_count": 21,
   "metadata": {},
   "outputs": [],
   "source": [
    "because_of_the_price_df = count_orders_canceled_df.query('order_approved_at == \"Не устраивает цена\" and order_status == \"canceled\"')"
   ]
  },
  {
   "cell_type": "code",
   "execution_count": 22,
   "metadata": {},
   "outputs": [
    {
     "data": {
      "text/plain": [
       "(141, 10)"
      ]
     },
     "execution_count": 22,
     "metadata": {},
     "output_type": "execute_result"
    }
   ],
   "source": [
    "because_of_the_price_df.shape"
   ]
  },
  {
   "cell_type": "markdown",
   "metadata": {},
   "source": [
    "- Датафрейм, где не устраивает дата доставки."
   ]
  },
  {
   "cell_type": "code",
   "execution_count": 23,
   "metadata": {},
   "outputs": [],
   "source": [
    "because_of_the_delivery_df = count_orders_canceled_df.query('order_approved_at != \"Не устраивает цена\" and order_status == \"canceled\"')"
   ]
  },
  {
   "cell_type": "code",
   "execution_count": 24,
   "metadata": {},
   "outputs": [
    {
     "data": {
      "text/plain": [
       "(484, 10)"
      ]
     },
     "execution_count": 24,
     "metadata": {},
     "output_type": "execute_result"
    }
   ],
   "source": [
    "because_of_the_delivery_df.shape"
   ]
  },
  {
   "cell_type": "markdown",
   "metadata": {},
   "source": [
    "- Датафрейм, где заказ недоступен."
   ]
  },
  {
   "cell_type": "code",
   "execution_count": 25,
   "metadata": {},
   "outputs": [],
   "source": [
    "unavailable_df = count_orders_canceled_df.query('order_status == \"unavailable\"')"
   ]
  },
  {
   "cell_type": "code",
   "execution_count": 26,
   "metadata": {},
   "outputs": [
    {
     "data": {
      "text/plain": [
       "(609, 10)"
      ]
     },
     "execution_count": 26,
     "metadata": {},
     "output_type": "execute_result"
    }
   ],
   "source": [
    "unavailable_df.shape"
   ]
  },
  {
   "cell_type": "markdown",
   "metadata": {},
   "source": [
    "- График отмененных заказов из-за цены в 2017 году."
   ]
  },
  {
   "cell_type": "code",
   "execution_count": 27,
   "metadata": {},
   "outputs": [
    {
     "data": {
      "text/plain": [
       "[Text(0.5, 1.0, 'График отмененных заказов из-за цены в 2017 году'),\n",
       " Text(0.5, 0, '№ месяца'),\n",
       " Text(0, 0.5, 'Кол-во')]"
      ]
     },
     "execution_count": 27,
     "metadata": {},
     "output_type": "execute_result"
    },
    {
     "data": {
      "image/png": "[encoded data removed]",
      "text/plain": [
       "<Figure size 640x480 with 1 Axes>"
      ]
     },
     "metadata": {},
     "output_type": "display_data"
    }
   ],
   "source": [
    "sns.countplot(x ='month_start', hue = \"years_start\", data = because_of_the_price_df.query('years_start == 2017')) \\\n",
    "    .set(title='График отмененных заказов из-за цены в 2017 году', xlabel='№ месяца', ylabel='Кол-во')"
   ]
  },
  {
   "cell_type": "markdown",
   "metadata": {},
   "source": [
    "- График отмененных заказов из-за даты доставки в 2017 году."
   ]
  },
  {
   "cell_type": "code",
   "execution_count": 28,
   "metadata": {},
   "outputs": [
    {
     "data": {
      "text/plain": [
       "[Text(0.5, 1.0, 'График отмененных заказов из-за даты доставки в 2017 году'),\n",
       " Text(0.5, 0, '№ месяца'),\n",
       " Text(0, 0.5, 'Кол-во')]"
      ]
     },
     "execution_count": 28,
     "metadata": {},
     "output_type": "execute_result"
    },
    {
     "data": {
      "image/png": "[encoded data removed]",
      "text/plain": [
       "<Figure size 640x480 with 1 Axes>"
      ]
     },
     "metadata": {},
     "output_type": "display_data"
    }
   ],
   "source": [
    "sns.countplot(x ='month_start', hue = \"years_start\", data = because_of_the_delivery_df.query('years_start == 2017')) \\\n",
    "    .set(title='График отмененных заказов из-за даты доставки в 2017 году', xlabel='№ месяца', ylabel='Кол-во')"
   ]
  },
  {
   "cell_type": "markdown",
   "metadata": {},
   "source": [
    "- График заказов, где статус — недоступен в 2017 году."
   ]
  },
  {
   "cell_type": "code",
   "execution_count": 29,
   "metadata": {},
   "outputs": [
    {
     "data": {
      "text/plain": [
       "[Text(0.5, 1.0, 'График заказов, где статус — недоступен в 2017 году'),\n",
       " Text(0.5, 0, '№ месяца'),\n",
       " Text(0, 0.5, 'Кол-во')]"
      ]
     },
     "execution_count": 29,
     "metadata": {},
     "output_type": "execute_result"
    },
    {
     "data": {
      "image/png": "[encoded data removed]",
      "text/plain": [
       "<Figure size 640x480 with 1 Axes>"
      ]
     },
     "metadata": {},
     "output_type": "display_data"
    }
   ],
   "source": [
    "sns.countplot(x ='month_start', hue = \"years_start\", data = unavailable_df.query('years_start == 2017')) \\\n",
    "    .set(title='График заказов, где статус — недоступен в 2017 году', xlabel='№ месяца', ylabel='Кол-во')"
   ]
  },
  {
   "cell_type": "markdown",
   "metadata": {},
   "source": [
    "- Считаем кол-во месяцев."
   ]
  },
  {
   "cell_type": "code",
   "execution_count": 30,
   "metadata": {},
   "outputs": [
    {
     "data": {
      "text/plain": [
       "25.733333333333334"
      ]
     },
     "execution_count": 30,
     "metadata": {},
     "output_type": "execute_result"
    }
   ],
   "source": [
    "(count_orders_canceled_df.order_purchase_timestamp.max() - count_orders_canceled_df.order_purchase_timestamp.min()).days / 30"
   ]
  },
  {
   "cell_type": "markdown",
   "metadata": {},
   "source": [
    "- Считаем сколько в среденм в месяц отменялось заказов по различнм причинам."
   ]
  },
  {
   "cell_type": "code",
   "execution_count": 31,
   "metadata": {},
   "outputs": [],
   "source": [
    "answer_2 = (141 + 484 + 609) / 26"
   ]
  },
  {
   "cell_type": "code",
   "execution_count": 32,
   "metadata": {},
   "outputs": [
    {
     "data": {
      "text/plain": [
       "47.5"
      ]
     },
     "execution_count": 32,
     "metadata": {},
     "output_type": "execute_result"
    }
   ],
   "source": [
    "np.round(answer_2, 1)"
   ]
  },
  {
   "cell_type": "code",
   "execution_count": 33,
   "metadata": {},
   "outputs": [
    {
     "name": "stdout",
     "output_type": "stream",
     "text": [
      "Ответ: в среднем 47.5 заказов в месяц не доставляется по разным причинам!\n"
     ]
    }
   ],
   "source": [
    "print('Ответ: в среднем', np.round(answer_2, 1), 'заказов в месяц не доставляется по разным причинам!')"
   ]
  },
  {
   "cell_type": "markdown",
   "metadata": {},
   "source": [
    "### 3. По каждому товару определяем, в какой день недели товар чаще всего покупается. "
   ]
  },
  {
   "cell_type": "markdown",
   "metadata": {},
   "source": [
    "- Смотрим сколько уникальных товаров и их кол-во."
   ]
  },
  {
   "cell_type": "code",
   "execution_count": 34,
   "metadata": {},
   "outputs": [
    {
     "data": {
      "text/plain": [
       "product_id\n",
       "aca2eb7d00ea1a7b8ebd4e68314663af    527\n",
       "99a4788cb24856965c36a24e339b6058    488\n",
       "422879e10f46682990de24d770e7f83d    484\n",
       "389d119b48cf3043d311335e499d9c6b    392\n",
       "368c6c730842d78016ad823897a372db    388\n",
       "                                   ... \n",
       "dbc42f8ad8afd0147a5a46be630781f8      1\n",
       "5d86ed92606c80a89e547cdba3946812      1\n",
       "0b8750fa58fefe42cf03a9e2e4b8fce6      1\n",
       "a4758e74e2cdb74d0c4db83594ca14a3      1\n",
       "350688d9dc1e75ff97be326363655e01      1\n",
       "Name: count, Length: 32951, dtype: int64"
      ]
     },
     "execution_count": 34,
     "metadata": {},
     "output_type": "execute_result"
    }
   ],
   "source": [
    "order_items_df['product_id'].value_counts()"
   ]
  },
  {
   "cell_type": "markdown",
   "metadata": {},
   "source": [
    "- Объединяем два дф, чтобы можно было сопоставить имя товара и дату его продажи."
   ]
  },
  {
   "cell_type": "code",
   "execution_count": 35,
   "metadata": {},
   "outputs": [],
   "source": [
    "orderes_df = order_items_df.merge(orders_df, on='order_id')"
   ]
  },
  {
   "cell_type": "markdown",
   "metadata": {},
   "source": [
    "- Удаляем лишние колонки."
   ]
  },
  {
   "cell_type": "code",
   "execution_count": 36,
   "metadata": {},
   "outputs": [],
   "source": [
    "orderes_df = orderes_df.drop(['order_item_id', 'seller_id', 'shipping_limit_date', 'price'], axis=1)"
   ]
  },
  {
   "cell_type": "code",
   "execution_count": 37,
   "metadata": {},
   "outputs": [],
   "source": [
    "orderes_df = orderes_df.drop(['freight_value', 'order_approved_at', 'order_delivered_carrier_date', \\\n",
    "    'order_delivered_customer_date', 'order_estimated_delivery_date'], axis=1)"
   ]
  },
  {
   "cell_type": "markdown",
   "metadata": {},
   "source": [
    "- Приводит наш столбец с временем к нужному типу."
   ]
  },
  {
   "cell_type": "code",
   "execution_count": 38,
   "metadata": {},
   "outputs": [],
   "source": [
    "orderes_df['order_purchase_timestamp'] = pd.to_datetime(orderes_df['order_purchase_timestamp'])"
   ]
  },
  {
   "cell_type": "markdown",
   "metadata": {},
   "source": [
    "- Создаем новый столбец с днями недели."
   ]
  },
  {
   "cell_type": "code",
   "execution_count": 39,
   "metadata": {},
   "outputs": [],
   "source": [
    "orderes_df['day_of_week'] = orderes_df['order_purchase_timestamp'].dt.day_name()"
   ]
  },
  {
   "cell_type": "markdown",
   "metadata": {},
   "source": [
    "- Отбираем заказы только со статусом delivered. Объяснил в первом задании почему так. "
   ]
  },
  {
   "cell_type": "code",
   "execution_count": 40,
   "metadata": {},
   "outputs": [],
   "source": [
    "orderes_df = orderes_df.query('order_status == \"delivered\"')"
   ]
  },
  {
   "cell_type": "code",
   "execution_count": 41,
   "metadata": {},
   "outputs": [
    {
     "data": {
      "text/html": [
       "<div>\n",
       "<style scoped>\n",
       "    .dataframe tbody tr th:only-of-type {\n",
       "        vertical-align: middle;\n",
       "    }\n",
       "\n",
       "    .dataframe tbody tr th {\n",
       "        vertical-align: top;\n",
       "    }\n",
       "\n",
       "    .dataframe thead th {\n",
       "        text-align: right;\n",
       "    }\n",
       "</style>\n",
       "<table border=\"1\" class=\"dataframe\">\n",
       "  <thead>\n",
       "    <tr style=\"text-align: right;\">\n",
       "      <th></th>\n",
       "      <th>order_id</th>\n",
       "      <th>product_id</th>\n",
       "      <th>customer_id</th>\n",
       "      <th>order_status</th>\n",
       "      <th>order_purchase_timestamp</th>\n",
       "      <th>day_of_week</th>\n",
       "    </tr>\n",
       "  </thead>\n",
       "  <tbody>\n",
       "    <tr>\n",
       "      <th>0</th>\n",
       "      <td>00010242fe8c5a6d1ba2dd792cb16214</td>\n",
       "      <td>4244733e06e7ecb4970a6e2683c13e61</td>\n",
       "      <td>3ce436f183e68e07877b285a838db11a</td>\n",
       "      <td>delivered</td>\n",
       "      <td>2017-09-13 08:59:02</td>\n",
       "      <td>Wednesday</td>\n",
       "    </tr>\n",
       "    <tr>\n",
       "      <th>1</th>\n",
       "      <td>00018f77f2f0320c557190d7a144bdd3</td>\n",
       "      <td>e5f2d52b802189ee658865ca93d83a8f</td>\n",
       "      <td>f6dd3ec061db4e3987629fe6b26e5cce</td>\n",
       "      <td>delivered</td>\n",
       "      <td>2017-04-26 10:53:06</td>\n",
       "      <td>Wednesday</td>\n",
       "    </tr>\n",
       "    <tr>\n",
       "      <th>2</th>\n",
       "      <td>000229ec398224ef6ca0657da4fc703e</td>\n",
       "      <td>c777355d18b72b67abbeef9df44fd0fd</td>\n",
       "      <td>6489ae5e4333f3693df5ad4372dab6d3</td>\n",
       "      <td>delivered</td>\n",
       "      <td>2018-01-14 14:33:31</td>\n",
       "      <td>Sunday</td>\n",
       "    </tr>\n",
       "    <tr>\n",
       "      <th>3</th>\n",
       "      <td>00024acbcdf0a6daa1e931b038114c75</td>\n",
       "      <td>7634da152a4610f1595efa32f14722fc</td>\n",
       "      <td>d4eb9395c8c0431ee92fce09860c5a06</td>\n",
       "      <td>delivered</td>\n",
       "      <td>2018-08-08 10:00:35</td>\n",
       "      <td>Wednesday</td>\n",
       "    </tr>\n",
       "    <tr>\n",
       "      <th>4</th>\n",
       "      <td>00042b26cf59d7ce69dfabb4e55b4fd9</td>\n",
       "      <td>ac6c3623068f30de03045865e4e10089</td>\n",
       "      <td>58dbd0b2d70206bf40e62cd34e84d795</td>\n",
       "      <td>delivered</td>\n",
       "      <td>2017-02-04 13:57:51</td>\n",
       "      <td>Saturday</td>\n",
       "    </tr>\n",
       "  </tbody>\n",
       "</table>\n",
       "</div>"
      ],
      "text/plain": [
       "                           order_id                        product_id  \\\n",
       "0  00010242fe8c5a6d1ba2dd792cb16214  4244733e06e7ecb4970a6e2683c13e61   \n",
       "1  00018f77f2f0320c557190d7a144bdd3  e5f2d52b802189ee658865ca93d83a8f   \n",
       "2  000229ec398224ef6ca0657da4fc703e  c777355d18b72b67abbeef9df44fd0fd   \n",
       "3  00024acbcdf0a6daa1e931b038114c75  7634da152a4610f1595efa32f14722fc   \n",
       "4  00042b26cf59d7ce69dfabb4e55b4fd9  ac6c3623068f30de03045865e4e10089   \n",
       "\n",
       "                        customer_id order_status order_purchase_timestamp  \\\n",
       "0  3ce436f183e68e07877b285a838db11a    delivered      2017-09-13 08:59:02   \n",
       "1  f6dd3ec061db4e3987629fe6b26e5cce    delivered      2017-04-26 10:53:06   \n",
       "2  6489ae5e4333f3693df5ad4372dab6d3    delivered      2018-01-14 14:33:31   \n",
       "3  d4eb9395c8c0431ee92fce09860c5a06    delivered      2018-08-08 10:00:35   \n",
       "4  58dbd0b2d70206bf40e62cd34e84d795    delivered      2017-02-04 13:57:51   \n",
       "\n",
       "  day_of_week  \n",
       "0   Wednesday  \n",
       "1   Wednesday  \n",
       "2      Sunday  \n",
       "3   Wednesday  \n",
       "4    Saturday  "
      ]
     },
     "execution_count": 41,
     "metadata": {},
     "output_type": "execute_result"
    }
   ],
   "source": [
    "orderes_df.head()"
   ]
  },
  {
   "cell_type": "markdown",
   "metadata": {},
   "source": [
    "- Cчитаем кол-во купленных товаров в определенный день недели."
   ]
  },
  {
   "cell_type": "code",
   "execution_count": 42,
   "metadata": {},
   "outputs": [],
   "source": [
    "orderes_df = orderes_df.groupby('product_id')['day_of_week'].value_counts().to_frame()"
   ]
  },
  {
   "cell_type": "code",
   "execution_count": 43,
   "metadata": {},
   "outputs": [],
   "source": [
    "orderes_df.rename(columns={'day_of_week':'count'}, inplace=True)"
   ]
  },
  {
   "cell_type": "code",
   "execution_count": 44,
   "metadata": {},
   "outputs": [],
   "source": [
    "orderes_df = orderes_df.reset_index()"
   ]
  },
  {
   "cell_type": "code",
   "execution_count": 45,
   "metadata": {},
   "outputs": [
    {
     "data": {
      "text/html": [
       "<div>\n",
       "<style scoped>\n",
       "    .dataframe tbody tr th:only-of-type {\n",
       "        vertical-align: middle;\n",
       "    }\n",
       "\n",
       "    .dataframe tbody tr th {\n",
       "        vertical-align: top;\n",
       "    }\n",
       "\n",
       "    .dataframe thead th {\n",
       "        text-align: right;\n",
       "    }\n",
       "</style>\n",
       "<table border=\"1\" class=\"dataframe\">\n",
       "  <thead>\n",
       "    <tr style=\"text-align: right;\">\n",
       "      <th></th>\n",
       "      <th>product_id</th>\n",
       "      <th>day_of_week</th>\n",
       "      <th>count</th>\n",
       "    </tr>\n",
       "  </thead>\n",
       "  <tbody>\n",
       "    <tr>\n",
       "      <th>0</th>\n",
       "      <td>00066f42aeeb9f3007548bb9d3f33c38</td>\n",
       "      <td>Sunday</td>\n",
       "      <td>1</td>\n",
       "    </tr>\n",
       "    <tr>\n",
       "      <th>1</th>\n",
       "      <td>00088930e925c41fd95ebfe695fd2655</td>\n",
       "      <td>Tuesday</td>\n",
       "      <td>1</td>\n",
       "    </tr>\n",
       "    <tr>\n",
       "      <th>2</th>\n",
       "      <td>0009406fd7479715e4bef61dd91f2462</td>\n",
       "      <td>Thursday</td>\n",
       "      <td>1</td>\n",
       "    </tr>\n",
       "    <tr>\n",
       "      <th>3</th>\n",
       "      <td>000b8f95fcb9e0096488278317764d19</td>\n",
       "      <td>Friday</td>\n",
       "      <td>1</td>\n",
       "    </tr>\n",
       "    <tr>\n",
       "      <th>4</th>\n",
       "      <td>000b8f95fcb9e0096488278317764d19</td>\n",
       "      <td>Wednesday</td>\n",
       "      <td>1</td>\n",
       "    </tr>\n",
       "  </tbody>\n",
       "</table>\n",
       "</div>"
      ],
      "text/plain": [
       "                         product_id day_of_week  count\n",
       "0  00066f42aeeb9f3007548bb9d3f33c38      Sunday      1\n",
       "1  00088930e925c41fd95ebfe695fd2655     Tuesday      1\n",
       "2  0009406fd7479715e4bef61dd91f2462    Thursday      1\n",
       "3  000b8f95fcb9e0096488278317764d19      Friday      1\n",
       "4  000b8f95fcb9e0096488278317764d19   Wednesday      1"
      ]
     },
     "execution_count": 45,
     "metadata": {},
     "output_type": "execute_result"
    }
   ],
   "source": [
    "orderes_df.head()"
   ]
  },
  {
   "cell_type": "markdown",
   "metadata": {},
   "source": [
    "- Оставил только те дни недели, где у товара максимальное число покупок."
   ]
  },
  {
   "cell_type": "code",
   "execution_count": 46,
   "metadata": {},
   "outputs": [
    {
     "data": {
      "text/html": [
       "<div>\n",
       "<style scoped>\n",
       "    .dataframe tbody tr th:only-of-type {\n",
       "        vertical-align: middle;\n",
       "    }\n",
       "\n",
       "    .dataframe tbody tr th {\n",
       "        vertical-align: top;\n",
       "    }\n",
       "\n",
       "    .dataframe thead th {\n",
       "        text-align: right;\n",
       "    }\n",
       "</style>\n",
       "<table border=\"1\" class=\"dataframe\">\n",
       "  <thead>\n",
       "    <tr style=\"text-align: right;\">\n",
       "      <th></th>\n",
       "      <th>product_id</th>\n",
       "      <th>day_of_week</th>\n",
       "      <th>count</th>\n",
       "    </tr>\n",
       "  </thead>\n",
       "  <tbody>\n",
       "    <tr>\n",
       "      <th>0</th>\n",
       "      <td>00066f42aeeb9f3007548bb9d3f33c38</td>\n",
       "      <td>Sunday</td>\n",
       "      <td>1</td>\n",
       "    </tr>\n",
       "    <tr>\n",
       "      <th>1</th>\n",
       "      <td>00088930e925c41fd95ebfe695fd2655</td>\n",
       "      <td>Tuesday</td>\n",
       "      <td>1</td>\n",
       "    </tr>\n",
       "    <tr>\n",
       "      <th>2</th>\n",
       "      <td>0009406fd7479715e4bef61dd91f2462</td>\n",
       "      <td>Thursday</td>\n",
       "      <td>1</td>\n",
       "    </tr>\n",
       "    <tr>\n",
       "      <th>3</th>\n",
       "      <td>000b8f95fcb9e0096488278317764d19</td>\n",
       "      <td>Wednesday</td>\n",
       "      <td>1</td>\n",
       "    </tr>\n",
       "    <tr>\n",
       "      <th>4</th>\n",
       "      <td>000d9be29b5207b54e86aa1b1ac54872</td>\n",
       "      <td>Tuesday</td>\n",
       "      <td>1</td>\n",
       "    </tr>\n",
       "  </tbody>\n",
       "</table>\n",
       "</div>"
      ],
      "text/plain": [
       "                         product_id day_of_week  count\n",
       "0  00066f42aeeb9f3007548bb9d3f33c38      Sunday      1\n",
       "1  00088930e925c41fd95ebfe695fd2655     Tuesday      1\n",
       "2  0009406fd7479715e4bef61dd91f2462    Thursday      1\n",
       "3  000b8f95fcb9e0096488278317764d19   Wednesday      1\n",
       "4  000d9be29b5207b54e86aa1b1ac54872     Tuesday      1"
      ]
     },
     "execution_count": 46,
     "metadata": {},
     "output_type": "execute_result"
    }
   ],
   "source": [
    "orderes_df = orderes_df.groupby(['product_id']).max().reset_index()\n",
    "orderes_df.head()"
   ]
  },
  {
   "cell_type": "markdown",
   "metadata": {},
   "source": [
    "- Проверка на ункальность каждого товара."
   ]
  },
  {
   "cell_type": "code",
   "execution_count": 47,
   "metadata": {},
   "outputs": [
    {
     "data": {
      "text/plain": [
       "product_id\n",
       "00066f42aeeb9f3007548bb9d3f33c38    1\n",
       "ab9730d0380f2a4bb056dbed9417478a    1\n",
       "abaefce0c17047c6829ff4078f2005d0    1\n",
       "abad2a82d0a25653323cec918ba3e54c    1\n",
       "abaa4c2633cbc40dda16b575531db57b    1\n",
       "                                   ..\n",
       "549356446db225e7f67b22ceaf66d159    1\n",
       "5492f900418b499c9ea1479ebde6e1de    1\n",
       "54919ddb6aa3bf5bf5901d504a8b7f18    1\n",
       "54910b8287ecea5f93a008ebfa94a15c    1\n",
       "fffe9eeff12fcbd74a2f2b007dde0c58    1\n",
       "Name: count, Length: 32216, dtype: int64"
      ]
     },
     "execution_count": 47,
     "metadata": {},
     "output_type": "execute_result"
    }
   ],
   "source": [
    "orderes_df['product_id'].value_counts()"
   ]
  },
  {
   "cell_type": "markdown",
   "metadata": {},
   "source": [
    "- Визуализация по сумме купленных товаров в определенный день недели."
   ]
  },
  {
   "cell_type": "code",
   "execution_count": 48,
   "metadata": {},
   "outputs": [
    {
     "data": {
      "text/plain": [
       "[Text(0.5, 1.0, 'График покупки товара, в какой день недели товар чаще всего покупается'),\n",
       " Text(0.5, 0, ''),\n",
       " Text(0, 0.5, 'Кол-во')]"
      ]
     },
     "execution_count": 48,
     "metadata": {},
     "output_type": "execute_result"
    },
    {
     "data": {
      "image/png": "[encoded data removed]",
      "text/plain": [
       "<Figure size 1170x827 with 1 Axes>"
      ]
     },
     "metadata": {},
     "output_type": "display_data"
    }
   ],
   "source": [
    "# Визуализация по сумме купленных товаров в определенный день недели.\n",
    "sns.set(rc={'figure.figsize':(11.7,8.27)})\n",
    "sns.countplot(x ='day_of_week', data = orderes_df, order=orderes_df['day_of_week'].value_counts().index) \\\n",
    "    .set(title='График покупки товара, в какой день недели товар чаще всего покупается', xlabel='', ylabel='Кол-во')"
   ]
  },
  {
   "cell_type": "markdown",
   "metadata": {},
   "source": [
    "### 4. Считаем сколько у каждого из пользователей в среднем покупок в неделю (по месяцам). "
   ]
  },
  {
   "cell_type": "markdown",
   "metadata": {},
   "source": [
    "- Объединил все три датафрейма и определяем по-какому статусу он доставлен."
   ]
  },
  {
   "cell_type": "code",
   "execution_count": 49,
   "metadata": {},
   "outputs": [],
   "source": [
    "all_df = customer_unique_id_order_status.merge(order_items_df)\n",
    "all_df = all_df.query('order_status == \"delivered\"')"
   ]
  },
  {
   "cell_type": "markdown",
   "metadata": {},
   "source": [
    "- Привожу наши данные в нужный формат."
   ]
  },
  {
   "cell_type": "code",
   "execution_count": 50,
   "metadata": {},
   "outputs": [],
   "source": [
    "all_df['order_purchase_timestamp'] = pd.to_datetime(all_df['order_purchase_timestamp'])"
   ]
  },
  {
   "cell_type": "code",
   "execution_count": 51,
   "metadata": {},
   "outputs": [
    {
     "data": {
      "text/plain": [
       "customer_id                              object\n",
       "customer_unique_id                       object\n",
       "customer_zip_code_prefix                  int64\n",
       "customer_city                            object\n",
       "customer_state                           object\n",
       "order_id                                 object\n",
       "order_status                             object\n",
       "order_purchase_timestamp         datetime64[ns]\n",
       "order_approved_at                        object\n",
       "order_delivered_carrier_date             object\n",
       "order_delivered_customer_date            object\n",
       "order_estimated_delivery_date            object\n",
       "order_item_id                             int64\n",
       "product_id                               object\n",
       "seller_id                                object\n",
       "shipping_limit_date                      object\n",
       "price                                   float64\n",
       "freight_value                           float64\n",
       "dtype: object"
      ]
     },
     "execution_count": 51,
     "metadata": {},
     "output_type": "execute_result"
    }
   ],
   "source": [
    "all_df.dtypes"
   ]
  },
  {
   "cell_type": "markdown",
   "metadata": {},
   "source": [
    "- Считаю кол-во дней в месяце используя метод days_in_month"
   ]
  },
  {
   "cell_type": "code",
   "execution_count": 52,
   "metadata": {},
   "outputs": [],
   "source": [
    "all_df['count_of_days'] = all_df.order_purchase_timestamp.dt.days_in_month"
   ]
  },
  {
   "cell_type": "code",
   "execution_count": 53,
   "metadata": {},
   "outputs": [
    {
     "data": {
      "text/html": [
       "<div>\n",
       "<style scoped>\n",
       "    .dataframe tbody tr th:only-of-type {\n",
       "        vertical-align: middle;\n",
       "    }\n",
       "\n",
       "    .dataframe tbody tr th {\n",
       "        vertical-align: top;\n",
       "    }\n",
       "\n",
       "    .dataframe thead th {\n",
       "        text-align: right;\n",
       "    }\n",
       "</style>\n",
       "<table border=\"1\" class=\"dataframe\">\n",
       "  <thead>\n",
       "    <tr style=\"text-align: right;\">\n",
       "      <th></th>\n",
       "      <th>customer_id</th>\n",
       "      <th>customer_unique_id</th>\n",
       "      <th>customer_zip_code_prefix</th>\n",
       "      <th>customer_city</th>\n",
       "      <th>customer_state</th>\n",
       "      <th>order_id</th>\n",
       "      <th>order_status</th>\n",
       "      <th>order_purchase_timestamp</th>\n",
       "      <th>order_approved_at</th>\n",
       "      <th>order_delivered_carrier_date</th>\n",
       "      <th>order_delivered_customer_date</th>\n",
       "      <th>order_estimated_delivery_date</th>\n",
       "      <th>order_item_id</th>\n",
       "      <th>product_id</th>\n",
       "      <th>seller_id</th>\n",
       "      <th>shipping_limit_date</th>\n",
       "      <th>price</th>\n",
       "      <th>freight_value</th>\n",
       "      <th>count_of_days</th>\n",
       "    </tr>\n",
       "  </thead>\n",
       "  <tbody>\n",
       "    <tr>\n",
       "      <th>0</th>\n",
       "      <td>06b8999e2fba1a1fbc88172c00ba8bc7</td>\n",
       "      <td>861eff4711a542e4b93843c6dd7febb0</td>\n",
       "      <td>14409</td>\n",
       "      <td>franca</td>\n",
       "      <td>SP</td>\n",
       "      <td>00e7ee1b050b8499577073aeb2a297a1</td>\n",
       "      <td>delivered</td>\n",
       "      <td>2017-05-16 15:05:35</td>\n",
       "      <td>2017-05-16 15:22:12</td>\n",
       "      <td>2017-05-23 10:47:57</td>\n",
       "      <td>2017-05-25 10:35:35</td>\n",
       "      <td>2017-06-05 00:00:00</td>\n",
       "      <td>1</td>\n",
       "      <td>a9516a079e37a9c9c36b9b78b10169e8</td>\n",
       "      <td>7c67e1448b00f6e969d365cea6b010ab</td>\n",
       "      <td>2017-05-22 15:22:12</td>\n",
       "      <td>124.99</td>\n",
       "      <td>21.88</td>\n",
       "      <td>31</td>\n",
       "    </tr>\n",
       "    <tr>\n",
       "      <th>1</th>\n",
       "      <td>18955e83d337fd6b2def6b18a428ac77</td>\n",
       "      <td>290c77bc529b7ac935b93aa66c333dc3</td>\n",
       "      <td>9790</td>\n",
       "      <td>sao bernardo do campo</td>\n",
       "      <td>SP</td>\n",
       "      <td>29150127e6685892b6eab3eec79f59c7</td>\n",
       "      <td>delivered</td>\n",
       "      <td>2018-01-12 20:48:24</td>\n",
       "      <td>2018-01-12 20:58:32</td>\n",
       "      <td>2018-01-15 17:14:59</td>\n",
       "      <td>2018-01-29 12:41:19</td>\n",
       "      <td>2018-02-06 00:00:00</td>\n",
       "      <td>1</td>\n",
       "      <td>4aa6014eceb682077f9dc4bffebc05b0</td>\n",
       "      <td>b8bc237ba3788b23da09c0f1f3a3288c</td>\n",
       "      <td>2018-01-18 20:58:32</td>\n",
       "      <td>289.00</td>\n",
       "      <td>46.48</td>\n",
       "      <td>31</td>\n",
       "    </tr>\n",
       "    <tr>\n",
       "      <th>2</th>\n",
       "      <td>4e7b3e00288586ebd08712fdd0374a03</td>\n",
       "      <td>060e732b5b29e8181a18229c7b0b2b5e</td>\n",
       "      <td>1151</td>\n",
       "      <td>sao paulo</td>\n",
       "      <td>SP</td>\n",
       "      <td>b2059ed67ce144a36e2aa97d2c9e9ad2</td>\n",
       "      <td>delivered</td>\n",
       "      <td>2018-05-19 16:07:45</td>\n",
       "      <td>2018-05-20 16:19:10</td>\n",
       "      <td>2018-06-11 14:31:00</td>\n",
       "      <td>2018-06-14 17:58:51</td>\n",
       "      <td>2018-06-13 00:00:00</td>\n",
       "      <td>1</td>\n",
       "      <td>bd07b66896d6f1494f5b86251848ced7</td>\n",
       "      <td>7c67e1448b00f6e969d365cea6b010ab</td>\n",
       "      <td>2018-06-05 16:19:10</td>\n",
       "      <td>139.94</td>\n",
       "      <td>17.79</td>\n",
       "      <td>31</td>\n",
       "    </tr>\n",
       "    <tr>\n",
       "      <th>3</th>\n",
       "      <td>b2b6027bc5c5109e529d4dc6358b12c3</td>\n",
       "      <td>259dac757896d24d7702b9acbbff3f3c</td>\n",
       "      <td>8775</td>\n",
       "      <td>mogi das cruzes</td>\n",
       "      <td>SP</td>\n",
       "      <td>951670f92359f4fe4a63112aa7306eba</td>\n",
       "      <td>delivered</td>\n",
       "      <td>2018-03-13 16:06:38</td>\n",
       "      <td>2018-03-13 17:29:19</td>\n",
       "      <td>2018-03-27 23:22:42</td>\n",
       "      <td>2018-03-28 16:04:25</td>\n",
       "      <td>2018-04-10 00:00:00</td>\n",
       "      <td>1</td>\n",
       "      <td>a5647c44af977b148e0a3a4751a09e2e</td>\n",
       "      <td>7c67e1448b00f6e969d365cea6b010ab</td>\n",
       "      <td>2018-03-27 16:31:16</td>\n",
       "      <td>149.94</td>\n",
       "      <td>23.36</td>\n",
       "      <td>31</td>\n",
       "    </tr>\n",
       "    <tr>\n",
       "      <th>4</th>\n",
       "      <td>4f2d8ab171c80ec8364f7c12e35b23ad</td>\n",
       "      <td>345ecd01c38d18a9036ed96c73b8d066</td>\n",
       "      <td>13056</td>\n",
       "      <td>campinas</td>\n",
       "      <td>SP</td>\n",
       "      <td>6b7d50bd145f6fc7f33cebabd7e49d0f</td>\n",
       "      <td>delivered</td>\n",
       "      <td>2018-07-29 09:51:30</td>\n",
       "      <td>2018-07-29 10:10:09</td>\n",
       "      <td>2018-07-30 15:16:00</td>\n",
       "      <td>2018-08-09 20:55:48</td>\n",
       "      <td>2018-08-15 00:00:00</td>\n",
       "      <td>1</td>\n",
       "      <td>9391a573abe00141c56e38d84d7d5b3b</td>\n",
       "      <td>4a3ca9315b744ce9f8e9374361493884</td>\n",
       "      <td>2018-07-31 10:10:09</td>\n",
       "      <td>230.00</td>\n",
       "      <td>22.25</td>\n",
       "      <td>31</td>\n",
       "    </tr>\n",
       "  </tbody>\n",
       "</table>\n",
       "</div>"
      ],
      "text/plain": [
       "                        customer_id                customer_unique_id  \\\n",
       "0  06b8999e2fba1a1fbc88172c00ba8bc7  861eff4711a542e4b93843c6dd7febb0   \n",
       "1  18955e83d337fd6b2def6b18a428ac77  290c77bc529b7ac935b93aa66c333dc3   \n",
       "2  4e7b3e00288586ebd08712fdd0374a03  060e732b5b29e8181a18229c7b0b2b5e   \n",
       "3  b2b6027bc5c5109e529d4dc6358b12c3  259dac757896d24d7702b9acbbff3f3c   \n",
       "4  4f2d8ab171c80ec8364f7c12e35b23ad  345ecd01c38d18a9036ed96c73b8d066   \n",
       "\n",
       "   customer_zip_code_prefix          customer_city customer_state  \\\n",
       "0                     14409                 franca             SP   \n",
       "1                      9790  sao bernardo do campo             SP   \n",
       "2                      1151              sao paulo             SP   \n",
       "3                      8775        mogi das cruzes             SP   \n",
       "4                     13056               campinas             SP   \n",
       "\n",
       "                           order_id order_status order_purchase_timestamp  \\\n",
       "0  00e7ee1b050b8499577073aeb2a297a1    delivered      2017-05-16 15:05:35   \n",
       "1  29150127e6685892b6eab3eec79f59c7    delivered      2018-01-12 20:48:24   \n",
       "2  b2059ed67ce144a36e2aa97d2c9e9ad2    delivered      2018-05-19 16:07:45   \n",
       "3  951670f92359f4fe4a63112aa7306eba    delivered      2018-03-13 16:06:38   \n",
       "4  6b7d50bd145f6fc7f33cebabd7e49d0f    delivered      2018-07-29 09:51:30   \n",
       "\n",
       "     order_approved_at order_delivered_carrier_date  \\\n",
       "0  2017-05-16 15:22:12          2017-05-23 10:47:57   \n",
       "1  2018-01-12 20:58:32          2018-01-15 17:14:59   \n",
       "2  2018-05-20 16:19:10          2018-06-11 14:31:00   \n",
       "3  2018-03-13 17:29:19          2018-03-27 23:22:42   \n",
       "4  2018-07-29 10:10:09          2018-07-30 15:16:00   \n",
       "\n",
       "  order_delivered_customer_date order_estimated_delivery_date  order_item_id  \\\n",
       "0           2017-05-25 10:35:35           2017-06-05 00:00:00              1   \n",
       "1           2018-01-29 12:41:19           2018-02-06 00:00:00              1   \n",
       "2           2018-06-14 17:58:51           2018-06-13 00:00:00              1   \n",
       "3           2018-03-28 16:04:25           2018-04-10 00:00:00              1   \n",
       "4           2018-08-09 20:55:48           2018-08-15 00:00:00              1   \n",
       "\n",
       "                         product_id                         seller_id  \\\n",
       "0  a9516a079e37a9c9c36b9b78b10169e8  7c67e1448b00f6e969d365cea6b010ab   \n",
       "1  4aa6014eceb682077f9dc4bffebc05b0  b8bc237ba3788b23da09c0f1f3a3288c   \n",
       "2  bd07b66896d6f1494f5b86251848ced7  7c67e1448b00f6e969d365cea6b010ab   \n",
       "3  a5647c44af977b148e0a3a4751a09e2e  7c67e1448b00f6e969d365cea6b010ab   \n",
       "4  9391a573abe00141c56e38d84d7d5b3b  4a3ca9315b744ce9f8e9374361493884   \n",
       "\n",
       "   shipping_limit_date   price  freight_value  count_of_days  \n",
       "0  2017-05-22 15:22:12  124.99          21.88             31  \n",
       "1  2018-01-18 20:58:32  289.00          46.48             31  \n",
       "2  2018-06-05 16:19:10  139.94          17.79             31  \n",
       "3  2018-03-27 16:31:16  149.94          23.36             31  \n",
       "4  2018-07-31 10:10:09  230.00          22.25             31  "
      ]
     },
     "execution_count": 53,
     "metadata": {},
     "output_type": "execute_result"
    }
   ],
   "source": [
    "all_df.head()"
   ]
  },
  {
   "cell_type": "markdown",
   "metadata": {},
   "source": [
    "- Группирую по нужным столбцам."
   ]
  },
  {
   "cell_type": "code",
   "execution_count": 54,
   "metadata": {},
   "outputs": [],
   "source": [
    "all_df = all_df.groupby(['customer_unique_id', 'order_purchase_timestamp', 'count_of_days'], as_index=False) \\\n",
    "    .agg({'customer_state':'count'}) \\\n",
    "    .rename(columns={'customer_unique_id':'id', 'order_purchase_timestamp':'data', 'customer_state': 'count_of_purchases'})"
   ]
  },
  {
   "cell_type": "markdown",
   "metadata": {},
   "source": [
    "- Считаю кол-во недель в месяце."
   ]
  },
  {
   "cell_type": "code",
   "execution_count": 55,
   "metadata": {},
   "outputs": [],
   "source": [
    "all_df['weeks_in_a_month'] = all_df.count_of_days / 7"
   ]
  },
  {
   "cell_type": "code",
   "execution_count": 56,
   "metadata": {},
   "outputs": [
    {
     "data": {
      "text/html": [
       "<div>\n",
       "<style scoped>\n",
       "    .dataframe tbody tr th:only-of-type {\n",
       "        vertical-align: middle;\n",
       "    }\n",
       "\n",
       "    .dataframe tbody tr th {\n",
       "        vertical-align: top;\n",
       "    }\n",
       "\n",
       "    .dataframe thead th {\n",
       "        text-align: right;\n",
       "    }\n",
       "</style>\n",
       "<table border=\"1\" class=\"dataframe\">\n",
       "  <thead>\n",
       "    <tr style=\"text-align: right;\">\n",
       "      <th></th>\n",
       "      <th>id</th>\n",
       "      <th>data</th>\n",
       "      <th>count_of_days</th>\n",
       "      <th>count_of_purchases</th>\n",
       "      <th>weeks_in_a_month</th>\n",
       "    </tr>\n",
       "  </thead>\n",
       "  <tbody>\n",
       "    <tr>\n",
       "      <th>0</th>\n",
       "      <td>0000366f3b9a7992bf8c76cfdf3221e2</td>\n",
       "      <td>2018-05-10 10:56:27</td>\n",
       "      <td>31</td>\n",
       "      <td>1</td>\n",
       "      <td>4.428571</td>\n",
       "    </tr>\n",
       "    <tr>\n",
       "      <th>1</th>\n",
       "      <td>0000b849f77a49e4a4ce2b2a4ca5be3f</td>\n",
       "      <td>2018-05-07 11:11:27</td>\n",
       "      <td>31</td>\n",
       "      <td>1</td>\n",
       "      <td>4.428571</td>\n",
       "    </tr>\n",
       "    <tr>\n",
       "      <th>2</th>\n",
       "      <td>0000f46a3911fa3c0805444483337064</td>\n",
       "      <td>2017-03-10 21:05:03</td>\n",
       "      <td>31</td>\n",
       "      <td>1</td>\n",
       "      <td>4.428571</td>\n",
       "    </tr>\n",
       "    <tr>\n",
       "      <th>3</th>\n",
       "      <td>0000f6ccb0745a6a4b88665a16c9f078</td>\n",
       "      <td>2017-10-12 20:29:41</td>\n",
       "      <td>31</td>\n",
       "      <td>1</td>\n",
       "      <td>4.428571</td>\n",
       "    </tr>\n",
       "    <tr>\n",
       "      <th>4</th>\n",
       "      <td>0004aac84e0df4da2b147fca70cf8255</td>\n",
       "      <td>2017-11-14 19:45:42</td>\n",
       "      <td>30</td>\n",
       "      <td>1</td>\n",
       "      <td>4.285714</td>\n",
       "    </tr>\n",
       "  </tbody>\n",
       "</table>\n",
       "</div>"
      ],
      "text/plain": [
       "                                 id                data  count_of_days  \\\n",
       "0  0000366f3b9a7992bf8c76cfdf3221e2 2018-05-10 10:56:27             31   \n",
       "1  0000b849f77a49e4a4ce2b2a4ca5be3f 2018-05-07 11:11:27             31   \n",
       "2  0000f46a3911fa3c0805444483337064 2017-03-10 21:05:03             31   \n",
       "3  0000f6ccb0745a6a4b88665a16c9f078 2017-10-12 20:29:41             31   \n",
       "4  0004aac84e0df4da2b147fca70cf8255 2017-11-14 19:45:42             30   \n",
       "\n",
       "   count_of_purchases  weeks_in_a_month  \n",
       "0                   1          4.428571  \n",
       "1                   1          4.428571  \n",
       "2                   1          4.428571  \n",
       "3                   1          4.428571  \n",
       "4                   1          4.285714  "
      ]
     },
     "execution_count": 56,
     "metadata": {},
     "output_type": "execute_result"
    }
   ],
   "source": [
    "all_df.head()"
   ]
  },
  {
   "cell_type": "markdown",
   "metadata": {},
   "source": [
    "- Покупок в неделю по месяцам — 2PWBM(Purchases per week by month)."
   ]
  },
  {
   "cell_type": "code",
   "execution_count": 57,
   "metadata": {},
   "outputs": [],
   "source": [
    "all_df['2PWBM'] = all_df.count_of_purchases / all_df.weeks_in_a_month"
   ]
  },
  {
   "cell_type": "code",
   "execution_count": 58,
   "metadata": {},
   "outputs": [
    {
     "data": {
      "text/html": [
       "<div>\n",
       "<style scoped>\n",
       "    .dataframe tbody tr th:only-of-type {\n",
       "        vertical-align: middle;\n",
       "    }\n",
       "\n",
       "    .dataframe tbody tr th {\n",
       "        vertical-align: top;\n",
       "    }\n",
       "\n",
       "    .dataframe thead th {\n",
       "        text-align: right;\n",
       "    }\n",
       "</style>\n",
       "<table border=\"1\" class=\"dataframe\">\n",
       "  <thead>\n",
       "    <tr style=\"text-align: right;\">\n",
       "      <th></th>\n",
       "      <th>id</th>\n",
       "      <th>data</th>\n",
       "      <th>count_of_days</th>\n",
       "      <th>count_of_purchases</th>\n",
       "      <th>weeks_in_a_month</th>\n",
       "      <th>2PWBM</th>\n",
       "    </tr>\n",
       "  </thead>\n",
       "  <tbody>\n",
       "    <tr>\n",
       "      <th>0</th>\n",
       "      <td>0000366f3b9a7992bf8c76cfdf3221e2</td>\n",
       "      <td>2018-05-10 10:56:27</td>\n",
       "      <td>31</td>\n",
       "      <td>1</td>\n",
       "      <td>4.428571</td>\n",
       "      <td>0.225806</td>\n",
       "    </tr>\n",
       "    <tr>\n",
       "      <th>1</th>\n",
       "      <td>0000b849f77a49e4a4ce2b2a4ca5be3f</td>\n",
       "      <td>2018-05-07 11:11:27</td>\n",
       "      <td>31</td>\n",
       "      <td>1</td>\n",
       "      <td>4.428571</td>\n",
       "      <td>0.225806</td>\n",
       "    </tr>\n",
       "    <tr>\n",
       "      <th>2</th>\n",
       "      <td>0000f46a3911fa3c0805444483337064</td>\n",
       "      <td>2017-03-10 21:05:03</td>\n",
       "      <td>31</td>\n",
       "      <td>1</td>\n",
       "      <td>4.428571</td>\n",
       "      <td>0.225806</td>\n",
       "    </tr>\n",
       "    <tr>\n",
       "      <th>3</th>\n",
       "      <td>0000f6ccb0745a6a4b88665a16c9f078</td>\n",
       "      <td>2017-10-12 20:29:41</td>\n",
       "      <td>31</td>\n",
       "      <td>1</td>\n",
       "      <td>4.428571</td>\n",
       "      <td>0.225806</td>\n",
       "    </tr>\n",
       "    <tr>\n",
       "      <th>4</th>\n",
       "      <td>0004aac84e0df4da2b147fca70cf8255</td>\n",
       "      <td>2017-11-14 19:45:42</td>\n",
       "      <td>30</td>\n",
       "      <td>1</td>\n",
       "      <td>4.285714</td>\n",
       "      <td>0.233333</td>\n",
       "    </tr>\n",
       "  </tbody>\n",
       "</table>\n",
       "</div>"
      ],
      "text/plain": [
       "                                 id                data  count_of_days  \\\n",
       "0  0000366f3b9a7992bf8c76cfdf3221e2 2018-05-10 10:56:27             31   \n",
       "1  0000b849f77a49e4a4ce2b2a4ca5be3f 2018-05-07 11:11:27             31   \n",
       "2  0000f46a3911fa3c0805444483337064 2017-03-10 21:05:03             31   \n",
       "3  0000f6ccb0745a6a4b88665a16c9f078 2017-10-12 20:29:41             31   \n",
       "4  0004aac84e0df4da2b147fca70cf8255 2017-11-14 19:45:42             30   \n",
       "\n",
       "   count_of_purchases  weeks_in_a_month     2PWBM  \n",
       "0                   1          4.428571  0.225806  \n",
       "1                   1          4.428571  0.225806  \n",
       "2                   1          4.428571  0.225806  \n",
       "3                   1          4.428571  0.225806  \n",
       "4                   1          4.285714  0.233333  "
      ]
     },
     "execution_count": 58,
     "metadata": {},
     "output_type": "execute_result"
    }
   ],
   "source": [
    "all_df.head()"
   ]
  },
  {
   "cell_type": "markdown",
   "metadata": {},
   "source": [
    "### 5. Выполните когортный анализ пользователей."
   ]
  },
  {
   "cell_type": "code",
   "execution_count": 59,
   "metadata": {},
   "outputs": [],
   "source": [
    "cohorts_df = customers_df.merge(orders_df, on='customer_id')"
   ]
  },
  {
   "cell_type": "markdown",
   "metadata": {},
   "source": [
    "- Преобразуем наши данные."
   ]
  },
  {
   "cell_type": "code",
   "execution_count": 60,
   "metadata": {},
   "outputs": [],
   "source": [
    "cohorts_df = cohorts_df.dropna(axis='index', how='any', subset=['order_approved_at'])\n",
    "\n",
    "cohorts_df = cohorts_df.drop(['customer_id', 'customer_zip_code_prefix', 'customer_city', 'customer_state'], axis=1)\n",
    "cohorts_df = cohorts_df.drop(['order_delivered_carrier_date', 'order_delivered_customer_date', 'order_estimated_delivery_date'], axis=1)\n",
    "\n",
    "cohorts_df['order_approved_at'] = pd.to_datetime(cohorts_df['order_approved_at'])"
   ]
  },
  {
   "cell_type": "markdown",
   "metadata": {},
   "source": [
    " Воспользуемся очень удобной функцией transform() совместно с groupby(), которая позволяет применять встроенные функции\n",
    " или пользовательске функции. Данная функция поможет показать нам первые покупки пользователя на нашем сайте."
   ]
  },
  {
   "cell_type": "code",
   "execution_count": 61,
   "metadata": {},
   "outputs": [],
   "source": [
    "cohorts_df['the_first_purchase'] = cohorts_df.groupby('customer_unique_id')['order_approved_at'].transform('min')"
   ]
  },
  {
   "cell_type": "code",
   "execution_count": 62,
   "metadata": {},
   "outputs": [
    {
     "data": {
      "text/html": [
       "<div>\n",
       "<style scoped>\n",
       "    .dataframe tbody tr th:only-of-type {\n",
       "        vertical-align: middle;\n",
       "    }\n",
       "\n",
       "    .dataframe tbody tr th {\n",
       "        vertical-align: top;\n",
       "    }\n",
       "\n",
       "    .dataframe thead th {\n",
       "        text-align: right;\n",
       "    }\n",
       "</style>\n",
       "<table border=\"1\" class=\"dataframe\">\n",
       "  <thead>\n",
       "    <tr style=\"text-align: right;\">\n",
       "      <th></th>\n",
       "      <th>customer_unique_id</th>\n",
       "      <th>order_id</th>\n",
       "      <th>order_status</th>\n",
       "      <th>order_purchase_timestamp</th>\n",
       "      <th>order_approved_at</th>\n",
       "      <th>the_first_purchase</th>\n",
       "    </tr>\n",
       "  </thead>\n",
       "  <tbody>\n",
       "    <tr>\n",
       "      <th>0</th>\n",
       "      <td>861eff4711a542e4b93843c6dd7febb0</td>\n",
       "      <td>00e7ee1b050b8499577073aeb2a297a1</td>\n",
       "      <td>delivered</td>\n",
       "      <td>2017-05-16 15:05:35</td>\n",
       "      <td>2017-05-16 15:22:12</td>\n",
       "      <td>2017-05-16 15:22:12</td>\n",
       "    </tr>\n",
       "    <tr>\n",
       "      <th>1</th>\n",
       "      <td>290c77bc529b7ac935b93aa66c333dc3</td>\n",
       "      <td>29150127e6685892b6eab3eec79f59c7</td>\n",
       "      <td>delivered</td>\n",
       "      <td>2018-01-12 20:48:24</td>\n",
       "      <td>2018-01-12 20:58:32</td>\n",
       "      <td>2018-01-12 20:58:32</td>\n",
       "    </tr>\n",
       "    <tr>\n",
       "      <th>2</th>\n",
       "      <td>060e732b5b29e8181a18229c7b0b2b5e</td>\n",
       "      <td>b2059ed67ce144a36e2aa97d2c9e9ad2</td>\n",
       "      <td>delivered</td>\n",
       "      <td>2018-05-19 16:07:45</td>\n",
       "      <td>2018-05-20 16:19:10</td>\n",
       "      <td>2018-05-20 16:19:10</td>\n",
       "    </tr>\n",
       "    <tr>\n",
       "      <th>3</th>\n",
       "      <td>259dac757896d24d7702b9acbbff3f3c</td>\n",
       "      <td>951670f92359f4fe4a63112aa7306eba</td>\n",
       "      <td>delivered</td>\n",
       "      <td>2018-03-13 16:06:38</td>\n",
       "      <td>2018-03-13 17:29:19</td>\n",
       "      <td>2018-03-13 17:29:19</td>\n",
       "    </tr>\n",
       "    <tr>\n",
       "      <th>4</th>\n",
       "      <td>345ecd01c38d18a9036ed96c73b8d066</td>\n",
       "      <td>6b7d50bd145f6fc7f33cebabd7e49d0f</td>\n",
       "      <td>delivered</td>\n",
       "      <td>2018-07-29 09:51:30</td>\n",
       "      <td>2018-07-29 10:10:09</td>\n",
       "      <td>2018-07-29 10:10:09</td>\n",
       "    </tr>\n",
       "  </tbody>\n",
       "</table>\n",
       "</div>"
      ],
      "text/plain": [
       "                 customer_unique_id                          order_id  \\\n",
       "0  861eff4711a542e4b93843c6dd7febb0  00e7ee1b050b8499577073aeb2a297a1   \n",
       "1  290c77bc529b7ac935b93aa66c333dc3  29150127e6685892b6eab3eec79f59c7   \n",
       "2  060e732b5b29e8181a18229c7b0b2b5e  b2059ed67ce144a36e2aa97d2c9e9ad2   \n",
       "3  259dac757896d24d7702b9acbbff3f3c  951670f92359f4fe4a63112aa7306eba   \n",
       "4  345ecd01c38d18a9036ed96c73b8d066  6b7d50bd145f6fc7f33cebabd7e49d0f   \n",
       "\n",
       "  order_status order_purchase_timestamp   order_approved_at  \\\n",
       "0    delivered      2017-05-16 15:05:35 2017-05-16 15:22:12   \n",
       "1    delivered      2018-01-12 20:48:24 2018-01-12 20:58:32   \n",
       "2    delivered      2018-05-19 16:07:45 2018-05-20 16:19:10   \n",
       "3    delivered      2018-03-13 16:06:38 2018-03-13 17:29:19   \n",
       "4    delivered      2018-07-29 09:51:30 2018-07-29 10:10:09   \n",
       "\n",
       "   the_first_purchase  \n",
       "0 2017-05-16 15:22:12  \n",
       "1 2018-01-12 20:58:32  \n",
       "2 2018-05-20 16:19:10  \n",
       "3 2018-03-13 17:29:19  \n",
       "4 2018-07-29 10:10:09  "
      ]
     },
     "execution_count": 62,
     "metadata": {},
     "output_type": "execute_result"
    }
   ],
   "source": [
    "cohorts_df.head()"
   ]
  },
  {
   "cell_type": "markdown",
   "metadata": {},
   "source": [
    "- Приводим данные в нужный формат."
   ]
  },
  {
   "cell_type": "code",
   "execution_count": 63,
   "metadata": {},
   "outputs": [],
   "source": [
    "cohorts_df['order_approved_at'] = cohorts_df['order_approved_at'].dt.to_period('M')\n",
    "cohorts_df['the_first_purchase'] = cohorts_df['the_first_purchase'].dt.to_period('M')"
   ]
  },
  {
   "cell_type": "markdown",
   "metadata": {},
   "source": [
    "- Для анализа возьмем только 2017 год, т.к только тут достаточно данных для проведения когортного анализа."
   ]
  },
  {
   "cell_type": "code",
   "execution_count": 64,
   "metadata": {},
   "outputs": [],
   "source": [
    "cohorts_df = cohorts_df.query(\"'2017-01' <= the_first_purchase <= '2017-12'\")\n",
    "cohorts_df = cohorts_df.query(\"'2017-01' <= order_approved_at <= '2017-12'\")"
   ]
  },
  {
   "cell_type": "markdown",
   "metadata": {},
   "source": [
    "- Считаем кол-во месяцев без покупок."
   ]
  },
  {
   "cell_type": "code",
   "execution_count": 65,
   "metadata": {},
   "outputs": [],
   "source": [
    "cohorts_df['month_passed'] = (cohorts_df['order_approved_at'] - cohorts_df['the_first_purchase']).apply(lambda x: x.n)"
   ]
  },
  {
   "cell_type": "markdown",
   "metadata": {},
   "source": [
    "- Группируем наши данные по первому заказу и пропущенному месяцу."
   ]
  },
  {
   "cell_type": "code",
   "execution_count": 66,
   "metadata": {},
   "outputs": [],
   "source": [
    "cohorts_df = cohorts_df.query('order_status == \"delivered\"') \\\n",
    "    .groupby(['the_first_purchase', 'month_passed'], as_index=False) \\\n",
    "    .agg({\"customer_unique_id\": \"nunique\"}) \\\n",
    "    .rename(columns={'customer_unique_id': 'count_unq_id'})"
   ]
  },
  {
   "cell_type": "markdown",
   "metadata": {},
   "source": [
    "- Меняем структуру таблицы."
   ]
  },
  {
   "cell_type": "code",
   "execution_count": 67,
   "metadata": {},
   "outputs": [],
   "source": [
    "cohorts_df = cohorts_df.pivot_table(index = 'the_first_purchase', columns = 'month_passed', values = 'count_unq_id')"
   ]
  },
  {
   "cell_type": "markdown",
   "metadata": {},
   "source": [
    "- Сохраним столбец с первыми значениями."
   ]
  },
  {
   "cell_type": "code",
   "execution_count": 68,
   "metadata": {},
   "outputs": [],
   "source": [
    "first = cohorts_df.iloc[:,0]"
   ]
  },
  {
   "cell_type": "markdown",
   "metadata": {},
   "source": [
    "- Убираем элементы на 0, которые выше побочной диагонали и пустые."
   ]
  },
  {
   "cell_type": "code",
   "execution_count": 69,
   "metadata": {},
   "outputs": [],
   "source": [
    "def replace_values(matrix):\n",
    "    '''\n",
    "    Принимает матрицу и заменяет все элементы на 0,\n",
    "    которые выше побочной диагонали и пустые.\n",
    "    '''\n",
    "    size = len(matrix)\n",
    "    for i in range(size):\n",
    "        for j in range(size):\n",
    "            if i + j < len(matrix) - 1 and np.isnan(matrix.iloc[i,j]) == True:\n",
    "                matrix.iloc[i,j] = 0\n",
    "    return matrix"
   ]
  },
  {
   "cell_type": "markdown",
   "metadata": {},
   "source": [
    "- Построим когортную таблицу."
   ]
  },
  {
   "cell_type": "code",
   "execution_count": 70,
   "metadata": {},
   "outputs": [],
   "source": [
    "result = cohorts_df.div(first, axis = 0) * 100"
   ]
  },
  {
   "cell_type": "code",
   "execution_count": 71,
   "metadata": {},
   "outputs": [
    {
     "data": {
      "text/html": [
       "<style type=\"text/css\">\n",
       "#T_99b46_row0_col0 {\n",
       "  background-color: #5cc863;\n",
       "  color: #000000;\n",
       "}\n",
       "#T_99b46_row0_col1, #T_99b46_row1_col6 {\n",
       "  background-color: #3d4d8a;\n",
       "  color: #f1f1f1;\n",
       "}\n",
       "#T_99b46_row0_col2, #T_99b46_row0_col6, #T_99b46_row0_col8, #T_99b46_row0_col10, #T_99b46_row1_col0, #T_99b46_row1_col4, #T_99b46_row1_col7, #T_99b46_row1_col9, #T_99b46_row2_col5, #T_99b46_row3_col1, #T_99b46_row5_col3 {\n",
       "  background-color: #440154;\n",
       "  color: #f1f1f1;\n",
       "}\n",
       "#T_99b46_row0_col3, #T_99b46_row0_col5, #T_99b46_row0_col9, #T_99b46_row1_col8, #T_99b46_row2_col6, #T_99b46_row3_col7, #T_99b46_row4_col1, #T_99b46_row4_col4, #T_99b46_row5_col2, #T_99b46_row9_col0 {\n",
       "  background-color: #fde725;\n",
       "  color: #000000;\n",
       "}\n",
       "#T_99b46_row0_col4 {\n",
       "  background-color: #482475;\n",
       "  color: #f1f1f1;\n",
       "}\n",
       "#T_99b46_row0_col7 {\n",
       "  background-color: #482374;\n",
       "  color: #f1f1f1;\n",
       "}\n",
       "#T_99b46_row1_col1 {\n",
       "  background-color: #481d6f;\n",
       "  color: #f1f1f1;\n",
       "}\n",
       "#T_99b46_row1_col2 {\n",
       "  background-color: #453882;\n",
       "  color: #f1f1f1;\n",
       "}\n",
       "#T_99b46_row1_col3 {\n",
       "  background-color: #efe51c;\n",
       "  color: #000000;\n",
       "}\n",
       "#T_99b46_row1_col5 {\n",
       "  background-color: #32648e;\n",
       "  color: #f1f1f1;\n",
       "}\n",
       "#T_99b46_row1_col10, #T_99b46_row2_col10, #T_99b46_row3_col10, #T_99b46_row4_col10, #T_99b46_row5_col10, #T_99b46_row6_col10, #T_99b46_row7_col10, #T_99b46_row8_col10, #T_99b46_row9_col10, #T_99b46_row10_col10, #T_99b46_row11_col10 {\n",
       "  background-color: #440154;\n",
       "  color: #f1f1f1;\n",
       "  background-color: white;\n",
       "}\n",
       "#T_99b46_row2_col0 {\n",
       "  background-color: #22a884;\n",
       "  color: #f1f1f1;\n",
       "}\n",
       "#T_99b46_row2_col1 {\n",
       "  background-color: #25848e;\n",
       "  color: #f1f1f1;\n",
       "}\n",
       "#T_99b46_row2_col2 {\n",
       "  background-color: #a0da39;\n",
       "  color: #000000;\n",
       "}\n",
       "#T_99b46_row2_col3, #T_99b46_row5_col0 {\n",
       "  background-color: #1f9a8a;\n",
       "  color: #f1f1f1;\n",
       "}\n",
       "#T_99b46_row2_col4, #T_99b46_row4_col6 {\n",
       "  background-color: #453781;\n",
       "  color: #f1f1f1;\n",
       "}\n",
       "#T_99b46_row2_col7 {\n",
       "  background-color: #8ed645;\n",
       "  color: #000000;\n",
       "}\n",
       "#T_99b46_row2_col8, #T_99b46_row7_col1 {\n",
       "  background-color: #228c8d;\n",
       "  color: #f1f1f1;\n",
       "}\n",
       "#T_99b46_row2_col9, #T_99b46_row3_col8, #T_99b46_row3_col9, #T_99b46_row4_col7, #T_99b46_row4_col8, #T_99b46_row4_col9, #T_99b46_row5_col6, #T_99b46_row5_col7, #T_99b46_row5_col8, #T_99b46_row5_col9, #T_99b46_row6_col5, #T_99b46_row6_col6, #T_99b46_row6_col7, #T_99b46_row6_col8, #T_99b46_row6_col9, #T_99b46_row7_col4, #T_99b46_row7_col5, #T_99b46_row7_col6, #T_99b46_row7_col7, #T_99b46_row7_col8, #T_99b46_row7_col9, #T_99b46_row8_col3, #T_99b46_row8_col4, #T_99b46_row8_col5, #T_99b46_row8_col6, #T_99b46_row8_col7, #T_99b46_row8_col8, #T_99b46_row8_col9, #T_99b46_row9_col2, #T_99b46_row9_col3, #T_99b46_row9_col4, #T_99b46_row9_col5, #T_99b46_row9_col6, #T_99b46_row9_col7, #T_99b46_row9_col8, #T_99b46_row9_col9, #T_99b46_row10_col1, #T_99b46_row10_col2, #T_99b46_row10_col3, #T_99b46_row10_col4, #T_99b46_row10_col5, #T_99b46_row10_col6, #T_99b46_row10_col7, #T_99b46_row10_col8, #T_99b46_row10_col9, #T_99b46_row11_col0, #T_99b46_row11_col1, #T_99b46_row11_col2, #T_99b46_row11_col3, #T_99b46_row11_col4, #T_99b46_row11_col5, #T_99b46_row11_col6, #T_99b46_row11_col7, #T_99b46_row11_col8, #T_99b46_row11_col9 {\n",
       "  background-color: #000000;\n",
       "  color: #f1f1f1;\n",
       "  background-color: white;\n",
       "}\n",
       "#T_99b46_row3_col0 {\n",
       "  background-color: #95d840;\n",
       "  color: #000000;\n",
       "}\n",
       "#T_99b46_row3_col2 {\n",
       "  background-color: #472f7d;\n",
       "  color: #f1f1f1;\n",
       "}\n",
       "#T_99b46_row3_col3 {\n",
       "  background-color: #470d60;\n",
       "  color: #f1f1f1;\n",
       "}\n",
       "#T_99b46_row3_col4 {\n",
       "  background-color: #2fb47c;\n",
       "  color: #f1f1f1;\n",
       "}\n",
       "#T_99b46_row3_col5, #T_99b46_row3_col6, #T_99b46_row8_col2 {\n",
       "  background-color: #4ac16d;\n",
       "  color: #000000;\n",
       "}\n",
       "#T_99b46_row4_col0 {\n",
       "  background-color: #37b878;\n",
       "  color: #f1f1f1;\n",
       "}\n",
       "#T_99b46_row4_col2 {\n",
       "  background-color: #d0e11c;\n",
       "  color: #000000;\n",
       "}\n",
       "#T_99b46_row4_col3 {\n",
       "  background-color: #33638d;\n",
       "  color: #f1f1f1;\n",
       "}\n",
       "#T_99b46_row4_col5 {\n",
       "  background-color: #f4e61e;\n",
       "  color: #000000;\n",
       "}\n",
       "#T_99b46_row5_col1 {\n",
       "  background-color: #24878e;\n",
       "  color: #f1f1f1;\n",
       "}\n",
       "#T_99b46_row5_col4 {\n",
       "  background-color: #c8e020;\n",
       "  color: #000000;\n",
       "}\n",
       "#T_99b46_row5_col5 {\n",
       "  background-color: #93d741;\n",
       "  color: #000000;\n",
       "}\n",
       "#T_99b46_row6_col0 {\n",
       "  background-color: #2eb37c;\n",
       "  color: #f1f1f1;\n",
       "}\n",
       "#T_99b46_row6_col1 {\n",
       "  background-color: #277e8e;\n",
       "  color: #f1f1f1;\n",
       "}\n",
       "#T_99b46_row6_col2 {\n",
       "  background-color: #375a8c;\n",
       "  color: #f1f1f1;\n",
       "}\n",
       "#T_99b46_row6_col3, #T_99b46_row7_col2 {\n",
       "  background-color: #21908d;\n",
       "  color: #f1f1f1;\n",
       "}\n",
       "#T_99b46_row6_col4 {\n",
       "  background-color: #365d8d;\n",
       "  color: #f1f1f1;\n",
       "}\n",
       "#T_99b46_row7_col0 {\n",
       "  background-color: #ece51b;\n",
       "  color: #000000;\n",
       "}\n",
       "#T_99b46_row7_col3 {\n",
       "  background-color: #22a785;\n",
       "  color: #f1f1f1;\n",
       "}\n",
       "#T_99b46_row8_col0 {\n",
       "  background-color: #d8e219;\n",
       "  color: #000000;\n",
       "}\n",
       "#T_99b46_row8_col1 {\n",
       "  background-color: #cae11f;\n",
       "  color: #000000;\n",
       "}\n",
       "#T_99b46_row9_col1 {\n",
       "  background-color: #39558c;\n",
       "  color: #f1f1f1;\n",
       "}\n",
       "#T_99b46_row10_col0 {\n",
       "  background-color: #42be71;\n",
       "  color: #f1f1f1;\n",
       "}\n",
       "</style>\n",
       "<table id=\"T_99b46\">\n",
       "  <caption>User retention by cohort in 2017</caption>\n",
       "  <thead>\n",
       "    <tr>\n",
       "      <th class=\"index_name level0\" >month_passed</th>\n",
       "      <th id=\"T_99b46_level0_col0\" class=\"col_heading level0 col0\" >1</th>\n",
       "      <th id=\"T_99b46_level0_col1\" class=\"col_heading level0 col1\" >2</th>\n",
       "      <th id=\"T_99b46_level0_col2\" class=\"col_heading level0 col2\" >3</th>\n",
       "      <th id=\"T_99b46_level0_col3\" class=\"col_heading level0 col3\" >4</th>\n",
       "      <th id=\"T_99b46_level0_col4\" class=\"col_heading level0 col4\" >5</th>\n",
       "      <th id=\"T_99b46_level0_col5\" class=\"col_heading level0 col5\" >6</th>\n",
       "      <th id=\"T_99b46_level0_col6\" class=\"col_heading level0 col6\" >7</th>\n",
       "      <th id=\"T_99b46_level0_col7\" class=\"col_heading level0 col7\" >8</th>\n",
       "      <th id=\"T_99b46_level0_col8\" class=\"col_heading level0 col8\" >9</th>\n",
       "      <th id=\"T_99b46_level0_col9\" class=\"col_heading level0 col9\" >10</th>\n",
       "      <th id=\"T_99b46_level0_col10\" class=\"col_heading level0 col10\" >11</th>\n",
       "    </tr>\n",
       "    <tr>\n",
       "      <th class=\"index_name level0\" >the_first_purchase</th>\n",
       "      <th class=\"blank col0\" >&nbsp;</th>\n",
       "      <th class=\"blank col1\" >&nbsp;</th>\n",
       "      <th class=\"blank col2\" >&nbsp;</th>\n",
       "      <th class=\"blank col3\" >&nbsp;</th>\n",
       "      <th class=\"blank col4\" >&nbsp;</th>\n",
       "      <th class=\"blank col5\" >&nbsp;</th>\n",
       "      <th class=\"blank col6\" >&nbsp;</th>\n",
       "      <th class=\"blank col7\" >&nbsp;</th>\n",
       "      <th class=\"blank col8\" >&nbsp;</th>\n",
       "      <th class=\"blank col9\" >&nbsp;</th>\n",
       "      <th class=\"blank col10\" >&nbsp;</th>\n",
       "    </tr>\n",
       "  </thead>\n",
       "  <tbody>\n",
       "    <tr>\n",
       "      <th id=\"T_99b46_level0_row0\" class=\"row_heading level0 row0\" >2017-01</th>\n",
       "      <td id=\"T_99b46_row0_col0\" class=\"data row0 col0\" >58.57%</td>\n",
       "      <td id=\"T_99b46_row0_col1\" class=\"data row0 col1\" >29.28%</td>\n",
       "      <td id=\"T_99b46_row0_col2\" class=\"data row0 col2\" >14.64%</td>\n",
       "      <td id=\"T_99b46_row0_col3\" class=\"data row0 col3\" >43.92%</td>\n",
       "      <td id=\"T_99b46_row0_col4\" class=\"data row0 col4\" >14.64%</td>\n",
       "      <td id=\"T_99b46_row0_col5\" class=\"data row0 col5\" >43.92%</td>\n",
       "      <td id=\"T_99b46_row0_col6\" class=\"data row0 col6\" >14.64%</td>\n",
       "      <td id=\"T_99b46_row0_col7\" class=\"data row0 col7\" >14.64%</td>\n",
       "      <td id=\"T_99b46_row0_col8\" class=\"data row0 col8\" >0.00%</td>\n",
       "      <td id=\"T_99b46_row0_col9\" class=\"data row0 col9\" >29.28%</td>\n",
       "      <td id=\"T_99b46_row0_col10\" class=\"data row0 col10\" >29.28%</td>\n",
       "    </tr>\n",
       "    <tr>\n",
       "      <th id=\"T_99b46_level0_row1\" class=\"row_heading level0 row1\" >2017-02</th>\n",
       "      <td id=\"T_99b46_row1_col0\" class=\"data row1 col0\" >24.83%</td>\n",
       "      <td id=\"T_99b46_row1_col1\" class=\"data row1 col1\" >24.83%</td>\n",
       "      <td id=\"T_99b46_row1_col2\" class=\"data row1 col2\" >18.62%</td>\n",
       "      <td id=\"T_99b46_row1_col3\" class=\"data row1 col3\" >43.45%</td>\n",
       "      <td id=\"T_99b46_row1_col4\" class=\"data row1 col4\" >12.41%</td>\n",
       "      <td id=\"T_99b46_row1_col5\" class=\"data row1 col5\" >24.83%</td>\n",
       "      <td id=\"T_99b46_row1_col6\" class=\"data row1 col6\" >18.62%</td>\n",
       "      <td id=\"T_99b46_row1_col7\" class=\"data row1 col7\" >12.41%</td>\n",
       "      <td id=\"T_99b46_row1_col8\" class=\"data row1 col8\" >24.83%</td>\n",
       "      <td id=\"T_99b46_row1_col9\" class=\"data row1 col9\" >12.41%</td>\n",
       "      <td id=\"T_99b46_row1_col10\" class=\"data row1 col10\" ></td>\n",
       "    </tr>\n",
       "    <tr>\n",
       "      <th id=\"T_99b46_level0_row2\" class=\"row_heading level0 row2\" >2017-03</th>\n",
       "      <td id=\"T_99b46_row2_col0\" class=\"data row2 col0\" >51.79%</td>\n",
       "      <td id=\"T_99b46_row2_col1\" class=\"data row2 col1\" >35.86%</td>\n",
       "      <td id=\"T_99b46_row2_col2\" class=\"data row2 col2\" >35.86%</td>\n",
       "      <td id=\"T_99b46_row2_col3\" class=\"data row2 col3\" >35.86%</td>\n",
       "      <td id=\"T_99b46_row2_col4\" class=\"data row2 col4\" >15.94%</td>\n",
       "      <td id=\"T_99b46_row2_col5\" class=\"data row2 col5\" >15.94%</td>\n",
       "      <td id=\"T_99b46_row2_col6\" class=\"data row2 col6\" >31.87%</td>\n",
       "      <td id=\"T_99b46_row2_col7\" class=\"data row2 col7\" >31.87%</td>\n",
       "      <td id=\"T_99b46_row2_col8\" class=\"data row2 col8\" >11.95%</td>\n",
       "      <td id=\"T_99b46_row2_col9\" class=\"data row2 col9\" ></td>\n",
       "      <td id=\"T_99b46_row2_col10\" class=\"data row2 col10\" ></td>\n",
       "    </tr>\n",
       "    <tr>\n",
       "      <th id=\"T_99b46_level0_row3\" class=\"row_heading level0 row3\" >2017-04</th>\n",
       "      <td id=\"T_99b46_row3_col0\" class=\"data row3 col0\" >62.78%</td>\n",
       "      <td id=\"T_99b46_row3_col1\" class=\"data row3 col1\" >22.42%</td>\n",
       "      <td id=\"T_99b46_row3_col2\" class=\"data row3 col2\" >17.94%</td>\n",
       "      <td id=\"T_99b46_row3_col3\" class=\"data row3 col3\" >26.91%</td>\n",
       "      <td id=\"T_99b46_row3_col4\" class=\"data row3 col4\" >26.91%</td>\n",
       "      <td id=\"T_99b46_row3_col5\" class=\"data row3 col5\" >35.87%</td>\n",
       "      <td id=\"T_99b46_row3_col6\" class=\"data row3 col6\" >26.91%</td>\n",
       "      <td id=\"T_99b46_row3_col7\" class=\"data row3 col7\" >35.87%</td>\n",
       "      <td id=\"T_99b46_row3_col8\" class=\"data row3 col8\" ></td>\n",
       "      <td id=\"T_99b46_row3_col9\" class=\"data row3 col9\" ></td>\n",
       "      <td id=\"T_99b46_row3_col10\" class=\"data row3 col10\" ></td>\n",
       "    </tr>\n",
       "    <tr>\n",
       "      <th id=\"T_99b46_level0_row4\" class=\"row_heading level0 row4\" >2017-05</th>\n",
       "      <td id=\"T_99b46_row4_col0\" class=\"data row4 col0\" >55.02%</td>\n",
       "      <td id=\"T_99b46_row4_col1\" class=\"data row4 col1\" >52.13%</td>\n",
       "      <td id=\"T_99b46_row4_col2\" class=\"data row4 col2\" >37.65%</td>\n",
       "      <td id=\"T_99b46_row4_col3\" class=\"data row4 col3\" >31.86%</td>\n",
       "      <td id=\"T_99b46_row4_col4\" class=\"data row4 col4\" >34.75%</td>\n",
       "      <td id=\"T_99b46_row4_col5\" class=\"data row4 col5\" >43.44%</td>\n",
       "      <td id=\"T_99b46_row4_col6\" class=\"data row4 col6\" >17.38%</td>\n",
       "      <td id=\"T_99b46_row4_col7\" class=\"data row4 col7\" ></td>\n",
       "      <td id=\"T_99b46_row4_col8\" class=\"data row4 col8\" ></td>\n",
       "      <td id=\"T_99b46_row4_col9\" class=\"data row4 col9\" ></td>\n",
       "      <td id=\"T_99b46_row4_col10\" class=\"data row4 col10\" ></td>\n",
       "    </tr>\n",
       "    <tr>\n",
       "      <th id=\"T_99b46_level0_row5\" class=\"row_heading level0 row5\" >2017-06</th>\n",
       "      <td id=\"T_99b46_row5_col0\" class=\"data row5 col0\" >49.29%</td>\n",
       "      <td id=\"T_99b46_row5_col1\" class=\"data row5 col1\" >36.15%</td>\n",
       "      <td id=\"T_99b46_row5_col2\" class=\"data row5 col2\" >39.43%</td>\n",
       "      <td id=\"T_99b46_row5_col3\" class=\"data row5 col3\" >26.29%</td>\n",
       "      <td id=\"T_99b46_row5_col4\" class=\"data row5 col4\" >32.86%</td>\n",
       "      <td id=\"T_99b46_row5_col5\" class=\"data row5 col5\" >39.43%</td>\n",
       "      <td id=\"T_99b46_row5_col6\" class=\"data row5 col6\" ></td>\n",
       "      <td id=\"T_99b46_row5_col7\" class=\"data row5 col7\" ></td>\n",
       "      <td id=\"T_99b46_row5_col8\" class=\"data row5 col8\" ></td>\n",
       "      <td id=\"T_99b46_row5_col9\" class=\"data row5 col9\" ></td>\n",
       "      <td id=\"T_99b46_row5_col10\" class=\"data row5 col10\" ></td>\n",
       "    </tr>\n",
       "    <tr>\n",
       "      <th id=\"T_99b46_level0_row6\" class=\"row_heading level0 row6\" >2017-07</th>\n",
       "      <td id=\"T_99b46_row6_col0\" class=\"data row6 col0\" >53.95%</td>\n",
       "      <td id=\"T_99b46_row6_col1\" class=\"data row6 col1\" >35.07%</td>\n",
       "      <td id=\"T_99b46_row6_col2\" class=\"data row6 col2\" >21.58%</td>\n",
       "      <td id=\"T_99b46_row6_col3\" class=\"data row6 col3\" >35.07%</td>\n",
       "      <td id=\"T_99b46_row6_col4\" class=\"data row6 col4\" >18.88%</td>\n",
       "      <td id=\"T_99b46_row6_col5\" class=\"data row6 col5\" ></td>\n",
       "      <td id=\"T_99b46_row6_col6\" class=\"data row6 col6\" ></td>\n",
       "      <td id=\"T_99b46_row6_col7\" class=\"data row6 col7\" ></td>\n",
       "      <td id=\"T_99b46_row6_col8\" class=\"data row6 col8\" ></td>\n",
       "      <td id=\"T_99b46_row6_col9\" class=\"data row6 col9\" ></td>\n",
       "      <td id=\"T_99b46_row6_col10\" class=\"data row6 col10\" ></td>\n",
       "    </tr>\n",
       "    <tr>\n",
       "      <th id=\"T_99b46_level0_row7\" class=\"row_heading level0 row7\" >2017-08</th>\n",
       "      <td id=\"T_99b46_row7_col0\" class=\"data row7 col0\" >68.66%</td>\n",
       "      <td id=\"T_99b46_row7_col1\" class=\"data row7 col1\" >36.78%</td>\n",
       "      <td id=\"T_99b46_row7_col2\" class=\"data row7 col2\" >26.97%</td>\n",
       "      <td id=\"T_99b46_row7_col3\" class=\"data row7 col3\" >36.78%</td>\n",
       "      <td id=\"T_99b46_row7_col4\" class=\"data row7 col4\" ></td>\n",
       "      <td id=\"T_99b46_row7_col5\" class=\"data row7 col5\" ></td>\n",
       "      <td id=\"T_99b46_row7_col6\" class=\"data row7 col6\" ></td>\n",
       "      <td id=\"T_99b46_row7_col7\" class=\"data row7 col7\" ></td>\n",
       "      <td id=\"T_99b46_row7_col8\" class=\"data row7 col8\" ></td>\n",
       "      <td id=\"T_99b46_row7_col9\" class=\"data row7 col9\" ></td>\n",
       "      <td id=\"T_99b46_row7_col10\" class=\"data row7 col10\" ></td>\n",
       "    </tr>\n",
       "    <tr>\n",
       "      <th id=\"T_99b46_level0_row8\" class=\"row_heading level0 row8\" >2017-09</th>\n",
       "      <td id=\"T_99b46_row8_col0\" class=\"data row8 col0\" >67.10%</td>\n",
       "      <td id=\"T_99b46_row8_col1\" class=\"data row8 col1\" >49.70%</td>\n",
       "      <td id=\"T_99b46_row8_col2\" class=\"data row8 col2\" >32.31%</td>\n",
       "      <td id=\"T_99b46_row8_col3\" class=\"data row8 col3\" ></td>\n",
       "      <td id=\"T_99b46_row8_col4\" class=\"data row8 col4\" ></td>\n",
       "      <td id=\"T_99b46_row8_col5\" class=\"data row8 col5\" ></td>\n",
       "      <td id=\"T_99b46_row8_col6\" class=\"data row8 col6\" ></td>\n",
       "      <td id=\"T_99b46_row8_col7\" class=\"data row8 col7\" ></td>\n",
       "      <td id=\"T_99b46_row8_col8\" class=\"data row8 col8\" ></td>\n",
       "      <td id=\"T_99b46_row8_col9\" class=\"data row8 col9\" ></td>\n",
       "      <td id=\"T_99b46_row8_col10\" class=\"data row8 col10\" ></td>\n",
       "    </tr>\n",
       "    <tr>\n",
       "      <th id=\"T_99b46_level0_row9\" class=\"row_heading level0 row9\" >2017-10</th>\n",
       "      <td id=\"T_99b46_row9_col0\" class=\"data row9 col0\" >69.90%</td>\n",
       "      <td id=\"T_99b46_row9_col1\" class=\"data row9 col1\" >30.29%</td>\n",
       "      <td id=\"T_99b46_row9_col2\" class=\"data row9 col2\" ></td>\n",
       "      <td id=\"T_99b46_row9_col3\" class=\"data row9 col3\" ></td>\n",
       "      <td id=\"T_99b46_row9_col4\" class=\"data row9 col4\" ></td>\n",
       "      <td id=\"T_99b46_row9_col5\" class=\"data row9 col5\" ></td>\n",
       "      <td id=\"T_99b46_row9_col6\" class=\"data row9 col6\" ></td>\n",
       "      <td id=\"T_99b46_row9_col7\" class=\"data row9 col7\" ></td>\n",
       "      <td id=\"T_99b46_row9_col8\" class=\"data row9 col8\" ></td>\n",
       "      <td id=\"T_99b46_row9_col9\" class=\"data row9 col9\" ></td>\n",
       "      <td id=\"T_99b46_row9_col10\" class=\"data row9 col10\" ></td>\n",
       "    </tr>\n",
       "    <tr>\n",
       "      <th id=\"T_99b46_level0_row10\" class=\"row_heading level0 row10\" >2017-11</th>\n",
       "      <td id=\"T_99b46_row10_col0\" class=\"data row10 col0\" >56.32%</td>\n",
       "      <td id=\"T_99b46_row10_col1\" class=\"data row10 col1\" ></td>\n",
       "      <td id=\"T_99b46_row10_col2\" class=\"data row10 col2\" ></td>\n",
       "      <td id=\"T_99b46_row10_col3\" class=\"data row10 col3\" ></td>\n",
       "      <td id=\"T_99b46_row10_col4\" class=\"data row10 col4\" ></td>\n",
       "      <td id=\"T_99b46_row10_col5\" class=\"data row10 col5\" ></td>\n",
       "      <td id=\"T_99b46_row10_col6\" class=\"data row10 col6\" ></td>\n",
       "      <td id=\"T_99b46_row10_col7\" class=\"data row10 col7\" ></td>\n",
       "      <td id=\"T_99b46_row10_col8\" class=\"data row10 col8\" ></td>\n",
       "      <td id=\"T_99b46_row10_col9\" class=\"data row10 col9\" ></td>\n",
       "      <td id=\"T_99b46_row10_col10\" class=\"data row10 col10\" ></td>\n",
       "    </tr>\n",
       "    <tr>\n",
       "      <th id=\"T_99b46_level0_row11\" class=\"row_heading level0 row11\" >2017-12</th>\n",
       "      <td id=\"T_99b46_row11_col0\" class=\"data row11 col0\" ></td>\n",
       "      <td id=\"T_99b46_row11_col1\" class=\"data row11 col1\" ></td>\n",
       "      <td id=\"T_99b46_row11_col2\" class=\"data row11 col2\" ></td>\n",
       "      <td id=\"T_99b46_row11_col3\" class=\"data row11 col3\" ></td>\n",
       "      <td id=\"T_99b46_row11_col4\" class=\"data row11 col4\" ></td>\n",
       "      <td id=\"T_99b46_row11_col5\" class=\"data row11 col5\" ></td>\n",
       "      <td id=\"T_99b46_row11_col6\" class=\"data row11 col6\" ></td>\n",
       "      <td id=\"T_99b46_row11_col7\" class=\"data row11 col7\" ></td>\n",
       "      <td id=\"T_99b46_row11_col8\" class=\"data row11 col8\" ></td>\n",
       "      <td id=\"T_99b46_row11_col9\" class=\"data row11 col9\" ></td>\n",
       "      <td id=\"T_99b46_row11_col10\" class=\"data row11 col10\" ></td>\n",
       "    </tr>\n",
       "  </tbody>\n",
       "</table>\n"
      ],
      "text/plain": [
       "<pandas.io.formats.style.Styler at 0x15f3b492db0>"
      ]
     },
     "execution_count": 71,
     "metadata": {},
     "output_type": "execute_result"
    }
   ],
   "source": [
    "ur_style = (replace_values(result).iloc[:, 1:] \n",
    "            #используем нашу ф-ю replace_values и берем все столбы кроме 1-го\n",
    "            .style\n",
    "            .set_caption('User retention by cohort in 2017')\n",
    "            .background_gradient(cmap='viridis') \n",
    "            .highlight_null('white')  \n",
    "            .format(\"{:.2%}\", na_rep=\"\"))  \n",
    "\n",
    "ur_style"
   ]
  },
  {
   "cell_type": "code",
   "execution_count": null,
   "metadata": {},
   "outputs": [],
   "source": []
  },
  {
   "cell_type": "markdown",
   "metadata": {},
   "source": [
    "### 6. Построю RFM-сегментацию пользователей, чтобы качественно оценить аудиторию, R - время от последней покупки пользователя до текущей даты, F - суммарное количество покупок у пользователя за всё время, M - сумма покупок за всё время."
   ]
  },
  {
   "cell_type": "markdown",
   "metadata": {},
   "source": [
    "- Создаем дф, группируем и приводим к нужному формату наши данные."
   ]
  },
  {
   "cell_type": "code",
   "execution_count": 72,
   "metadata": {},
   "outputs": [],
   "source": [
    "RFM = customer_unique_id_order_status.merge(order_items_df)\n",
    "RFM = RFM.query(\"order_status == 'delivered'\").groupby(['order_id', 'customer_unique_id', 'order_approved_at'], as_index=False).agg({'price': 'sum'})"
   ]
  },
  {
   "cell_type": "code",
   "execution_count": 73,
   "metadata": {},
   "outputs": [],
   "source": [
    "RFM['order_approved_at'] = pd.to_datetime(RFM.order_approved_at)"
   ]
  },
  {
   "cell_type": "code",
   "execution_count": 74,
   "metadata": {},
   "outputs": [
    {
     "data": {
      "text/html": [
       "<div>\n",
       "<style scoped>\n",
       "    .dataframe tbody tr th:only-of-type {\n",
       "        vertical-align: middle;\n",
       "    }\n",
       "\n",
       "    .dataframe tbody tr th {\n",
       "        vertical-align: top;\n",
       "    }\n",
       "\n",
       "    .dataframe thead th {\n",
       "        text-align: right;\n",
       "    }\n",
       "</style>\n",
       "<table border=\"1\" class=\"dataframe\">\n",
       "  <thead>\n",
       "    <tr style=\"text-align: right;\">\n",
       "      <th></th>\n",
       "      <th>order_id</th>\n",
       "      <th>customer_unique_id</th>\n",
       "      <th>order_approved_at</th>\n",
       "      <th>price</th>\n",
       "    </tr>\n",
       "  </thead>\n",
       "  <tbody>\n",
       "    <tr>\n",
       "      <th>0</th>\n",
       "      <td>00010242fe8c5a6d1ba2dd792cb16214</td>\n",
       "      <td>871766c5855e863f6eccc05f988b23cb</td>\n",
       "      <td>2017-09-13 09:45:35</td>\n",
       "      <td>58.90</td>\n",
       "    </tr>\n",
       "    <tr>\n",
       "      <th>1</th>\n",
       "      <td>00018f77f2f0320c557190d7a144bdd3</td>\n",
       "      <td>eb28e67c4c0b83846050ddfb8a35d051</td>\n",
       "      <td>2017-04-26 11:05:13</td>\n",
       "      <td>239.90</td>\n",
       "    </tr>\n",
       "    <tr>\n",
       "      <th>2</th>\n",
       "      <td>000229ec398224ef6ca0657da4fc703e</td>\n",
       "      <td>3818d81c6709e39d06b2738a8d3a2474</td>\n",
       "      <td>2018-01-14 14:48:30</td>\n",
       "      <td>199.00</td>\n",
       "    </tr>\n",
       "    <tr>\n",
       "      <th>3</th>\n",
       "      <td>00024acbcdf0a6daa1e931b038114c75</td>\n",
       "      <td>af861d436cfc08b2c2ddefd0ba074622</td>\n",
       "      <td>2018-08-08 10:10:18</td>\n",
       "      <td>12.99</td>\n",
       "    </tr>\n",
       "    <tr>\n",
       "      <th>4</th>\n",
       "      <td>00042b26cf59d7ce69dfabb4e55b4fd9</td>\n",
       "      <td>64b576fb70d441e8f1b2d7d446e483c5</td>\n",
       "      <td>2017-02-04 14:10:13</td>\n",
       "      <td>199.90</td>\n",
       "    </tr>\n",
       "  </tbody>\n",
       "</table>\n",
       "</div>"
      ],
      "text/plain": [
       "                           order_id                customer_unique_id  \\\n",
       "0  00010242fe8c5a6d1ba2dd792cb16214  871766c5855e863f6eccc05f988b23cb   \n",
       "1  00018f77f2f0320c557190d7a144bdd3  eb28e67c4c0b83846050ddfb8a35d051   \n",
       "2  000229ec398224ef6ca0657da4fc703e  3818d81c6709e39d06b2738a8d3a2474   \n",
       "3  00024acbcdf0a6daa1e931b038114c75  af861d436cfc08b2c2ddefd0ba074622   \n",
       "4  00042b26cf59d7ce69dfabb4e55b4fd9  64b576fb70d441e8f1b2d7d446e483c5   \n",
       "\n",
       "    order_approved_at   price  \n",
       "0 2017-09-13 09:45:35   58.90  \n",
       "1 2017-04-26 11:05:13  239.90  \n",
       "2 2018-01-14 14:48:30  199.00  \n",
       "3 2018-08-08 10:10:18   12.99  \n",
       "4 2017-02-04 14:10:13  199.90  "
      ]
     },
     "execution_count": 74,
     "metadata": {},
     "output_type": "execute_result"
    }
   ],
   "source": [
    "RFM.head()"
   ]
  },
  {
   "cell_type": "markdown",
   "metadata": {},
   "source": [
    "- Считаем Recency."
   ]
  },
  {
   "cell_type": "code",
   "execution_count": 75,
   "metadata": {},
   "outputs": [],
   "source": [
    "current_date = datetime.today()\n",
    "RFM['recency'] = RFM.order_approved_at.apply(lambda x: current_date - x).dt.days"
   ]
  },
  {
   "cell_type": "markdown",
   "metadata": {},
   "source": [
    "- Группируем по customer_unique_id, возьмем минимальный Recency(это и есть время от последней покупки пользователя), считаем Freqency и Monetary."
   ]
  },
  {
   "cell_type": "code",
   "execution_count": 76,
   "metadata": {},
   "outputs": [
    {
     "data": {
      "text/html": [
       "<div>\n",
       "<style scoped>\n",
       "    .dataframe tbody tr th:only-of-type {\n",
       "        vertical-align: middle;\n",
       "    }\n",
       "\n",
       "    .dataframe tbody tr th {\n",
       "        vertical-align: top;\n",
       "    }\n",
       "\n",
       "    .dataframe thead th {\n",
       "        text-align: right;\n",
       "    }\n",
       "</style>\n",
       "<table border=\"1\" class=\"dataframe\">\n",
       "  <thead>\n",
       "    <tr style=\"text-align: right;\">\n",
       "      <th></th>\n",
       "      <th>customer_unique_id</th>\n",
       "      <th>recency</th>\n",
       "      <th>freqency</th>\n",
       "      <th>monetary</th>\n",
       "    </tr>\n",
       "  </thead>\n",
       "  <tbody>\n",
       "    <tr>\n",
       "      <th>0</th>\n",
       "      <td>0000366f3b9a7992bf8c76cfdf3221e2</td>\n",
       "      <td>2174</td>\n",
       "      <td>1</td>\n",
       "      <td>129.90</td>\n",
       "    </tr>\n",
       "    <tr>\n",
       "      <th>1</th>\n",
       "      <td>0000b849f77a49e4a4ce2b2a4ca5be3f</td>\n",
       "      <td>2176</td>\n",
       "      <td>1</td>\n",
       "      <td>18.90</td>\n",
       "    </tr>\n",
       "    <tr>\n",
       "      <th>2</th>\n",
       "      <td>0000f46a3911fa3c0805444483337064</td>\n",
       "      <td>2599</td>\n",
       "      <td>1</td>\n",
       "      <td>69.00</td>\n",
       "    </tr>\n",
       "    <tr>\n",
       "      <th>3</th>\n",
       "      <td>0000f6ccb0745a6a4b88665a16c9f078</td>\n",
       "      <td>2383</td>\n",
       "      <td>1</td>\n",
       "      <td>25.99</td>\n",
       "    </tr>\n",
       "    <tr>\n",
       "      <th>4</th>\n",
       "      <td>0004aac84e0df4da2b147fca70cf8255</td>\n",
       "      <td>2350</td>\n",
       "      <td>1</td>\n",
       "      <td>180.00</td>\n",
       "    </tr>\n",
       "  </tbody>\n",
       "</table>\n",
       "</div>"
      ],
      "text/plain": [
       "                 customer_unique_id  recency  freqency  monetary\n",
       "0  0000366f3b9a7992bf8c76cfdf3221e2     2174         1    129.90\n",
       "1  0000b849f77a49e4a4ce2b2a4ca5be3f     2176         1     18.90\n",
       "2  0000f46a3911fa3c0805444483337064     2599         1     69.00\n",
       "3  0000f6ccb0745a6a4b88665a16c9f078     2383         1     25.99\n",
       "4  0004aac84e0df4da2b147fca70cf8255     2350         1    180.00"
      ]
     },
     "execution_count": 76,
     "metadata": {},
     "output_type": "execute_result"
    }
   ],
   "source": [
    "RFM = RFM.groupby('customer_unique_id', as_index=False).agg({'recency':'min', 'order_id':'nunique', 'price':'sum'}).rename(columns={'order_id':'freqency', 'price':'monetary'})\n",
    "RFM.head()"
   ]
  },
  {
   "cell_type": "markdown",
   "metadata": {},
   "source": [
    "- Посмотрим на наши данные."
   ]
  },
  {
   "cell_type": "code",
   "execution_count": 77,
   "metadata": {},
   "outputs": [
    {
     "data": {
      "text/html": [
       "<div>\n",
       "<style scoped>\n",
       "    .dataframe tbody tr th:only-of-type {\n",
       "        vertical-align: middle;\n",
       "    }\n",
       "\n",
       "    .dataframe tbody tr th {\n",
       "        vertical-align: top;\n",
       "    }\n",
       "\n",
       "    .dataframe thead th {\n",
       "        text-align: right;\n",
       "    }\n",
       "</style>\n",
       "<table border=\"1\" class=\"dataframe\">\n",
       "  <thead>\n",
       "    <tr style=\"text-align: right;\">\n",
       "      <th></th>\n",
       "      <th>recency</th>\n",
       "      <th>freqency</th>\n",
       "      <th>monetary</th>\n",
       "    </tr>\n",
       "  </thead>\n",
       "  <tbody>\n",
       "    <tr>\n",
       "      <th>count</th>\n",
       "      <td>93345.000000</td>\n",
       "      <td>93345.000000</td>\n",
       "      <td>93345.000000</td>\n",
       "    </tr>\n",
       "    <tr>\n",
       "      <th>mean</th>\n",
       "      <td>2299.319171</td>\n",
       "      <td>1.033414</td>\n",
       "      <td>141.623308</td>\n",
       "    </tr>\n",
       "    <tr>\n",
       "      <th>std</th>\n",
       "      <td>152.569395</td>\n",
       "      <td>0.209088</td>\n",
       "      <td>215.705007</td>\n",
       "    </tr>\n",
       "    <tr>\n",
       "      <th>min</th>\n",
       "      <td>2062.000000</td>\n",
       "      <td>1.000000</td>\n",
       "      <td>0.850000</td>\n",
       "    </tr>\n",
       "    <tr>\n",
       "      <th>25%</th>\n",
       "      <td>2176.000000</td>\n",
       "      <td>1.000000</td>\n",
       "      <td>47.650000</td>\n",
       "    </tr>\n",
       "    <tr>\n",
       "      <th>50%</th>\n",
       "      <td>2280.000000</td>\n",
       "      <td>1.000000</td>\n",
       "      <td>89.760000</td>\n",
       "    </tr>\n",
       "    <tr>\n",
       "      <th>75%</th>\n",
       "      <td>2407.000000</td>\n",
       "      <td>1.000000</td>\n",
       "      <td>154.750000</td>\n",
       "    </tr>\n",
       "    <tr>\n",
       "      <th>max</th>\n",
       "      <td>2775.000000</td>\n",
       "      <td>15.000000</td>\n",
       "      <td>13440.000000</td>\n",
       "    </tr>\n",
       "  </tbody>\n",
       "</table>\n",
       "</div>"
      ],
      "text/plain": [
       "            recency      freqency      monetary\n",
       "count  93345.000000  93345.000000  93345.000000\n",
       "mean    2299.319171      1.033414    141.623308\n",
       "std      152.569395      0.209088    215.705007\n",
       "min     2062.000000      1.000000      0.850000\n",
       "25%     2176.000000      1.000000     47.650000\n",
       "50%     2280.000000      1.000000     89.760000\n",
       "75%     2407.000000      1.000000    154.750000\n",
       "max     2775.000000     15.000000  13440.000000"
      ]
     },
     "execution_count": 77,
     "metadata": {},
     "output_type": "execute_result"
    }
   ],
   "source": [
    " RFM.describe()"
   ]
  },
  {
   "cell_type": "code",
   "execution_count": 78,
   "metadata": {},
   "outputs": [
    {
     "data": {
      "text/plain": [
       "<Axes: xlabel='recency', ylabel='Count'>"
      ]
     },
     "execution_count": 78,
     "metadata": {},
     "output_type": "execute_result"
    },
    {
     "data": {
      "image/png": "[encoded data removed]",
      "text/plain": [
       "<Figure size 1170x827 with 1 Axes>"
      ]
     },
     "metadata": {},
     "output_type": "display_data"
    }
   ],
   "source": [
    "sns.histplot(RFM.recency)"
   ]
  },
  {
   "cell_type": "code",
   "execution_count": 79,
   "metadata": {},
   "outputs": [
    {
     "data": {
      "text/plain": [
       "<Axes: xlabel='freqency', ylabel='Count'>"
      ]
     },
     "execution_count": 79,
     "metadata": {},
     "output_type": "execute_result"
    },
    {
     "data": {
      "image/png": "[encoded data removed]",
      "text/plain": [
       "<Figure size 1170x827 with 1 Axes>"
      ]
     },
     "metadata": {},
     "output_type": "display_data"
    }
   ],
   "source": [
    "sns.histplot(RFM.freqency)"
   ]
  },
  {
   "cell_type": "code",
   "execution_count": 80,
   "metadata": {},
   "outputs": [
    {
     "data": {
      "text/plain": [
       "<Axes: xlabel='monetary', ylabel='Count'>"
      ]
     },
     "execution_count": 80,
     "metadata": {},
     "output_type": "execute_result"
    },
    {
     "data": {
      "image/png": "[encoded data removed]",
      "text/plain": [
       "<Figure size 1170x827 with 1 Axes>"
      ]
     },
     "metadata": {},
     "output_type": "display_data"
    }
   ],
   "source": [
    "sns.histplot(RFM.monetary)"
   ]
  },
  {
   "cell_type": "markdown",
   "metadata": {},
   "source": [
    "- Т.к большенство пользователей сделало по одному заказу, то будет распределять на две группы 1 — 1 заказ, 2 — больше одного. Подобным образом сделаем с recency, будем делить по медианному значению 2298.8, и с monetary сделаем аналогично, поделим на две группы по квантилю q=.96, который = 499.5."
   ]
  },
  {
   "cell_type": "markdown",
   "metadata": {},
   "source": [
    "- Функции для разделения RFM на сигменты."
   ]
  },
  {
   "cell_type": "code",
   "execution_count": 81,
   "metadata": {},
   "outputs": [],
   "source": [
    "def seg_R(x):\n",
    "    if x <= RFM.recency.median():\n",
    "        return 1\n",
    "    else:\n",
    "        return 2"
   ]
  },
  {
   "cell_type": "code",
   "execution_count": 82,
   "metadata": {},
   "outputs": [],
   "source": [
    " def seg_F(x):\n",
    "    if x > 1:\n",
    "        return 1\n",
    "    else:\n",
    "        return 2"
   ]
  },
  {
   "cell_type": "code",
   "execution_count": 83,
   "metadata": {},
   "outputs": [],
   "source": [
    "def seg_M(x):\n",
    "    if x >=  RFM.monetary.quantile(q=0.96):\n",
    "        return 1\n",
    "    else:\n",
    "        return 2"
   ]
  },
  {
   "cell_type": "markdown",
   "metadata": {},
   "source": [
    "- Делим на сигменты."
   ]
  },
  {
   "cell_type": "code",
   "execution_count": 84,
   "metadata": {},
   "outputs": [],
   "source": [
    "RFM['R'] = RFM['recency'].apply(lambda x: seg_R(x))\n",
    "RFM['F'] = RFM['freqency'].apply(lambda x: seg_F(x))\n",
    "RFM['M'] = RFM['monetary'].apply(lambda x: seg_M(x))\n",
    "RFM['RFM'] = RFM['R'].map(str) + RFM['F'].map(str) + RFM['M'].map(str)"
   ]
  },
  {
   "cell_type": "code",
   "execution_count": 85,
   "metadata": {},
   "outputs": [
    {
     "data": {
      "text/html": [
       "<div>\n",
       "<style scoped>\n",
       "    .dataframe tbody tr th:only-of-type {\n",
       "        vertical-align: middle;\n",
       "    }\n",
       "\n",
       "    .dataframe tbody tr th {\n",
       "        vertical-align: top;\n",
       "    }\n",
       "\n",
       "    .dataframe thead th {\n",
       "        text-align: right;\n",
       "    }\n",
       "</style>\n",
       "<table border=\"1\" class=\"dataframe\">\n",
       "  <thead>\n",
       "    <tr style=\"text-align: right;\">\n",
       "      <th></th>\n",
       "      <th>customer_unique_id</th>\n",
       "      <th>recency</th>\n",
       "      <th>freqency</th>\n",
       "      <th>monetary</th>\n",
       "      <th>R</th>\n",
       "      <th>F</th>\n",
       "      <th>M</th>\n",
       "      <th>RFM</th>\n",
       "    </tr>\n",
       "  </thead>\n",
       "  <tbody>\n",
       "    <tr>\n",
       "      <th>0</th>\n",
       "      <td>0000366f3b9a7992bf8c76cfdf3221e2</td>\n",
       "      <td>2174</td>\n",
       "      <td>1</td>\n",
       "      <td>129.90</td>\n",
       "      <td>1</td>\n",
       "      <td>2</td>\n",
       "      <td>2</td>\n",
       "      <td>122</td>\n",
       "    </tr>\n",
       "    <tr>\n",
       "      <th>1</th>\n",
       "      <td>0000b849f77a49e4a4ce2b2a4ca5be3f</td>\n",
       "      <td>2176</td>\n",
       "      <td>1</td>\n",
       "      <td>18.90</td>\n",
       "      <td>1</td>\n",
       "      <td>2</td>\n",
       "      <td>2</td>\n",
       "      <td>122</td>\n",
       "    </tr>\n",
       "    <tr>\n",
       "      <th>2</th>\n",
       "      <td>0000f46a3911fa3c0805444483337064</td>\n",
       "      <td>2599</td>\n",
       "      <td>1</td>\n",
       "      <td>69.00</td>\n",
       "      <td>2</td>\n",
       "      <td>2</td>\n",
       "      <td>2</td>\n",
       "      <td>222</td>\n",
       "    </tr>\n",
       "    <tr>\n",
       "      <th>3</th>\n",
       "      <td>0000f6ccb0745a6a4b88665a16c9f078</td>\n",
       "      <td>2383</td>\n",
       "      <td>1</td>\n",
       "      <td>25.99</td>\n",
       "      <td>2</td>\n",
       "      <td>2</td>\n",
       "      <td>2</td>\n",
       "      <td>222</td>\n",
       "    </tr>\n",
       "    <tr>\n",
       "      <th>4</th>\n",
       "      <td>0004aac84e0df4da2b147fca70cf8255</td>\n",
       "      <td>2350</td>\n",
       "      <td>1</td>\n",
       "      <td>180.00</td>\n",
       "      <td>2</td>\n",
       "      <td>2</td>\n",
       "      <td>2</td>\n",
       "      <td>222</td>\n",
       "    </tr>\n",
       "  </tbody>\n",
       "</table>\n",
       "</div>"
      ],
      "text/plain": [
       "                 customer_unique_id  recency  freqency  monetary  R  F  M  RFM\n",
       "0  0000366f3b9a7992bf8c76cfdf3221e2     2174         1    129.90  1  2  2  122\n",
       "1  0000b849f77a49e4a4ce2b2a4ca5be3f     2176         1     18.90  1  2  2  122\n",
       "2  0000f46a3911fa3c0805444483337064     2599         1     69.00  2  2  2  222\n",
       "3  0000f6ccb0745a6a4b88665a16c9f078     2383         1     25.99  2  2  2  222\n",
       "4  0004aac84e0df4da2b147fca70cf8255     2350         1    180.00  2  2  2  222"
      ]
     },
     "execution_count": 85,
     "metadata": {},
     "output_type": "execute_result"
    }
   ],
   "source": [
    "RFM.head()"
   ]
  },
  {
   "cell_type": "markdown",
   "metadata": {},
   "source": [
    "- Считаем кол-во пользователей в каждом сегменте."
   ]
  },
  {
   "cell_type": "code",
   "execution_count": 86,
   "metadata": {},
   "outputs": [
    {
     "data": {
      "text/html": [
       "<div>\n",
       "<style scoped>\n",
       "    .dataframe tbody tr th:only-of-type {\n",
       "        vertical-align: middle;\n",
       "    }\n",
       "\n",
       "    .dataframe tbody tr th {\n",
       "        vertical-align: top;\n",
       "    }\n",
       "\n",
       "    .dataframe thead th {\n",
       "        text-align: right;\n",
       "    }\n",
       "</style>\n",
       "<table border=\"1\" class=\"dataframe\">\n",
       "  <thead>\n",
       "    <tr style=\"text-align: right;\">\n",
       "      <th></th>\n",
       "      <th>RFM</th>\n",
       "      <th>count</th>\n",
       "    </tr>\n",
       "  </thead>\n",
       "  <tbody>\n",
       "    <tr>\n",
       "      <th>0</th>\n",
       "      <td>111</td>\n",
       "      <td>164</td>\n",
       "    </tr>\n",
       "    <tr>\n",
       "      <th>1</th>\n",
       "      <td>112</td>\n",
       "      <td>1378</td>\n",
       "    </tr>\n",
       "    <tr>\n",
       "      <th>2</th>\n",
       "      <td>121</td>\n",
       "      <td>1730</td>\n",
       "    </tr>\n",
       "    <tr>\n",
       "      <th>3</th>\n",
       "      <td>122</td>\n",
       "      <td>43421</td>\n",
       "    </tr>\n",
       "    <tr>\n",
       "      <th>4</th>\n",
       "      <td>211</td>\n",
       "      <td>119</td>\n",
       "    </tr>\n",
       "    <tr>\n",
       "      <th>5</th>\n",
       "      <td>212</td>\n",
       "      <td>1139</td>\n",
       "    </tr>\n",
       "    <tr>\n",
       "      <th>6</th>\n",
       "      <td>221</td>\n",
       "      <td>1721</td>\n",
       "    </tr>\n",
       "    <tr>\n",
       "      <th>7</th>\n",
       "      <td>222</td>\n",
       "      <td>43673</td>\n",
       "    </tr>\n",
       "  </tbody>\n",
       "</table>\n",
       "</div>"
      ],
      "text/plain": [
       "   RFM  count\n",
       "0  111    164\n",
       "1  112   1378\n",
       "2  121   1730\n",
       "3  122  43421\n",
       "4  211    119\n",
       "5  212   1139\n",
       "6  221   1721\n",
       "7  222  43673"
      ]
     },
     "execution_count": 86,
     "metadata": {},
     "output_type": "execute_result"
    }
   ],
   "source": [
    "RFM_GB = RFM.groupby('RFM', as_index=False).agg({'customer_unique_id':'count'}).rename(columns={'customer_unique_id':'count'})\n",
    "RFM_GB"
   ]
  },
  {
   "cell_type": "code",
   "execution_count": 87,
   "metadata": {},
   "outputs": [
    {
     "data": {
      "text/plain": [
       "<Axes: xlabel='RFM', ylabel='count'>"
      ]
     },
     "execution_count": 87,
     "metadata": {},
     "output_type": "execute_result"
    },
    {
     "data": {
      "image/png": "[encoded data removed]",
      "text/plain": [
       "<Figure size 1170x827 with 1 Axes>"
      ]
     },
     "metadata": {},
     "output_type": "display_data"
    }
   ],
   "source": [
    " sns.barplot(data=RFM_GB, x='RFM', y='count')"
   ]
  },
  {
   "cell_type": "markdown",
   "metadata": {},
   "source": [
    "- Сделаем наименование групп."
   ]
  },
  {
   "cell_type": "code",
   "execution_count": 88,
   "metadata": {},
   "outputs": [],
   "source": [
    "customer_types = {\n",
    "    '111': '+R',\n",
    "    '211': '+R',\n",
    "    '112': '+F',\n",
    "    '212': '+F',\n",
    "    '121': '+M',\n",
    "    '221': '+M',\n",
    "    '122': '—',\n",
    "    '222': '—'\n",
    "}"
   ]
  },
  {
   "cell_type": "code",
   "execution_count": 89,
   "metadata": {},
   "outputs": [],
   "source": [
    "RFM_GB['type'] = RFM_GB['RFM'].map(customer_types)"
   ]
  },
  {
   "cell_type": "code",
   "execution_count": 90,
   "metadata": {},
   "outputs": [
    {
     "data": {
      "text/plain": [
       "<Axes: xlabel='type', ylabel='count'>"
      ]
     },
     "execution_count": 90,
     "metadata": {},
     "output_type": "execute_result"
    },
    {
     "data": {
      "image/png": "[encoded data removed]",
      "text/plain": [
       "<Figure size 1170x827 with 1 Axes>"
      ]
     },
     "metadata": {},
     "output_type": "display_data"
    }
   ],
   "source": [
    " sns.barplot(data=RFM_GB, x='type', y='count')"
   ]
  }
 ],
 "metadata": {
  "kernelspec": {
   "display_name": "Python 3 (ipykernel)",
   "language": "python",
   "name": "python3"
  },
  "language_info": {
   "codemirror_mode": {
    "name": "ipython",
    "version": 3
   },
   "file_extension": ".py",
   "mimetype": "text/x-python",
   "name": "python",
   "nbconvert_exporter": "python",
   "pygments_lexer": "ipython3",
   "version": "3.12.3"
  }
 },
 "nbformat": 4,
 "nbformat_minor": 4
}
